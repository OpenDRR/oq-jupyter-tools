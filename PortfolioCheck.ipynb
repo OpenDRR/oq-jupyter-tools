{
 "cells": [
  {
   "cell_type": "markdown",
   "metadata": {},
   "source": [
    "Portfolio Check\n",
    "=====================\n",
    "\n",
    "An interactive OpenQuake (OQ) tool to build a portfolio of assets and check their risk. Written by Tiegan Hobbs ([tieganh](https://github.com/tieganh)) on 11 May 2020 for python. This document is intended for demonstration purposes, and licensed under a [Creative Commons Attribution-ShareAlike 4.0 International License](https://creativecommons.org/licenses/by-sa/4.0/). \n",
    "![alt text](https://i.creativecommons.org/l/by-sa/4.0/80x15.png \"CC BY-SA 4.0\")\n",
    "\n",
    "------------\n",
    "\n",
    "## Table of Contents \n",
    "\n",
    "1. [Build Portfolio](#Build-Portfolio)\n",
    "2. [Run Scenario](#Run-Scenario)\n",
    "3. [View Report](#View-Report)\n"
   ]
  },
  {
   "cell_type": "markdown",
   "metadata": {},
   "source": [
    "----------\n",
    "---------\n",
    "\n",
    "## Running OpenQuake\n",
    "To run this tutorial you will need to have OQ installed. Test it by running the code below to ensure you get a recent version (ex: '3.9.0-gitdcd091b') rather than an error. Assuming it works, run `oq webui start` in a terminal window to initialize the OQ web interface. If you encounter errors, see the [installation guide](https://github.com/gem/oq-engine/blob/master/doc/installing/development.md)."
   ]
  },
  {
   "cell_type": "code",
   "execution_count": null,
   "metadata": {
    "scrolled": true
   },
   "outputs": [],
   "source": [
    "%%bash\n",
    "oq --version"
   ]
  },
  {
   "cell_type": "markdown",
   "metadata": {},
   "source": [
    "-----------\n",
    "\n",
    "## Building Portfolio\n",
    "\n",
    "Run the code snippet below, and drag the marker to your asset of concern."
   ]
  },
  {
   "cell_type": "code",
   "execution_count": 67,
   "metadata": {
    "scrolled": false
   },
   "outputs": [
    {
     "data": {
      "application/vnd.jupyter.widget-view+json": {
       "model_id": "60a7f1b1157e4733a07c9392438efdff",
       "version_major": 2,
       "version_minor": 0
      },
      "text/plain": [
       "Map(center=[49.2609, -123.0924], controls=(ZoomControl(options=['position', 'zoom_in_text', 'zoom_in_title', '…"
      ]
     },
     "metadata": {},
     "output_type": "display_data"
    }
   ],
   "source": [
    "from ipyleaflet import Map, Marker\n",
    "\n",
    "center = (49.2609, -123.0924)\n",
    "m = Map(center=center, zoom=15)\n",
    "marker = Marker(location=center, draggable=True)\n",
    "m.add_layer(marker);\n",
    "\n",
    "display(m)"
   ]
  },
  {
   "cell_type": "markdown",
   "metadata": {},
   "source": [
    "**Run the code below to save your new location.**"
   ]
  },
  {
   "cell_type": "code",
   "execution_count": 68,
   "metadata": {},
   "outputs": [
    {
     "name": "stdout",
     "output_type": "stream",
     "text": [
      "49.265468188307544 -123.09197131544352\n"
     ]
    }
   ],
   "source": [
    "LAT, LON = marker.location\n",
    "print(LAT,LON)"
   ]
  },
  {
   "cell_type": "markdown",
   "metadata": {},
   "source": [
    "Select your construction type and occupancy from the dropdowns below."
   ]
  },
  {
   "cell_type": "code",
   "execution_count": 86,
   "metadata": {
    "scrolled": true
   },
   "outputs": [
    {
     "data": {
      "application/vnd.jupyter.widget-view+json": {
       "model_id": "f007850bee974beb8893727250b03523",
       "version_major": 2,
       "version_minor": 0
      },
      "text/plain": [
       "Dropdown(description='Material:', options=('Wood', 'Steel', 'Concrete', 'Precast', 'Reinforced Masonry', 'Unre…"
      ]
     },
     "metadata": {},
     "output_type": "display_data"
    }
   ],
   "source": [
    "import ipywidgets as widgets\n",
    "Drop1 = widgets.Dropdown(\n",
    "    options=['Wood', 'Steel', 'Concrete', 'Precast', 'Reinforced Masonry', 'Unreinforced Masonry', 'Mobile Home'],\n",
    "    description='Material:',\n",
    ")\n",
    "Drop1"
   ]
  },
  {
   "cell_type": "code",
   "execution_count": 87,
   "metadata": {},
   "outputs": [
    {
     "name": "stdout",
     "output_type": "stream",
     "text": [
      "Choose number of storeys. If greater than 8, select 8.\n"
     ]
    },
    {
     "data": {
      "application/vnd.jupyter.widget-view+json": {
       "model_id": "4ee0bd8a24f442de9d3f5068ce823b13",
       "version_major": 2,
       "version_minor": 0
      },
      "text/plain": [
       "IntSlider(value=2, continuous_update=False, description='Storeys:', max=8, min=1)"
      ]
     },
     "metadata": {},
     "output_type": "display_data"
    }
   ],
   "source": [
    "if Drop1.value is 'Wood':\n",
    "    Storeys = widgets.IntSlider(\n",
    "        description='Storeys:',\n",
    "        value=2,\n",
    "        min=1,\n",
    "        max=3,\n",
    "        step=1,\n",
    "        continuous_update=False,\n",
    "        orientation='horizontal',\n",
    "        readout=True,\n",
    "        readout_format='d')\n",
    "    print(\"Choose number of storeys. If greater than 3, select 3.\")\n",
    "else:\n",
    "    Storeys = widgets.IntSlider(\n",
    "        description='Storeys:',\n",
    "        value=2,\n",
    "        min=1,\n",
    "        max=8,\n",
    "        step=1,\n",
    "        continuous_update=False,\n",
    "        orientation='horizontal',\n",
    "        readout=True,\n",
    "        readout_format='d')\n",
    "    print(\"Choose number of storeys. If greater than 8, select 8.\")\n",
    "\n",
    "Storeys"
   ]
  },
  {
   "cell_type": "code",
   "execution_count": 88,
   "metadata": {},
   "outputs": [
    {
     "data": {
      "application/vnd.jupyter.widget-view+json": {
       "model_id": "ea29a53b08c542f383c25d03b20475dd",
       "version_major": 2,
       "version_minor": 0
      },
      "text/plain": [
       "Dropdown(description='Type:', options=(('Moment Frame', 'C1'), ('Shear Wall', 'C2'), ('URM Infill', 'C3')), va…"
      ]
     },
     "metadata": {},
     "output_type": "display_data"
    }
   ],
   "source": [
    "if Drop1.value is 'Wood':\n",
    "    Drop2 = widgets.Dropdown(\n",
    "        options=[('Light [<5000 sq ft]','W1'),('Commercial/Industrial [>5000 sq ft]','W2')],\n",
    "        description='Type:',\n",
    "    )\n",
    "elif Drop1.value is 'Unreinforced Masonry':\n",
    "    \n",
    "elif Drop1.value is 'Concrete':\n",
    "    Drop2 = widgets.Dropdown(\n",
    "        options=[('Moment Frame','C1'),('Shear Wall','C2'), ('URM Infill','C3')],\n",
    "        description='Type:',\n",
    "    )\n",
    "Drop2"
   ]
  },
  {
   "cell_type": "code",
   "execution_count": 89,
   "metadata": {},
   "outputs": [
    {
     "name": "stdout",
     "output_type": "stream",
     "text": [
      "C36\n"
     ]
    }
   ],
   "source": [
    "if Storeys.value in (1,2,3):\n",
    "    \n",
    "\n",
    "if Drop1.value is 'Concrete':\n",
    "    CONST=str(Drop2.value)+str(Storeys.value)\n",
    "elif Drop1.value is 'Wood':\n",
    "    CONST = Drop2.value\n",
    "    \n",
    "print(CONST)"
   ]
  },
  {
   "cell_type": "code",
   "execution_count": 40,
   "metadata": {},
   "outputs": [
    {
     "data": {
      "application/vnd.jupyter.widget-view+json": {
       "model_id": "c73a9a6b56dd438083c2750c94c50808",
       "version_major": 2,
       "version_minor": 0
      },
      "text/plain": [
       "interactive(children=(Dropdown(description='BuildingMaterial', options=('wood', 'concrete', 'URM', 'steel'), v…"
      ]
     },
     "metadata": {},
     "output_type": "display_data"
    }
   ],
   "source": [
    "from ipywidgets import interact, interact_manual\n",
    "@interact\n",
    "def building_material(BuildingMaterial=['wood', 'concrete', 'URM', 'steel']):\n",
    "    if BuildingMaterial is 'wood':\n",
    "        def wood_type(CONST=[('Commercial/Industrial','W2'), ('Light Frame','W1')]):\n",
    "            return CONST\n",
    "    else:\n",
    "        return \"NOT WOOD\"\n",
    "    "
   ]
  },
  {
   "cell_type": "code",
   "execution_count": 25,
   "metadata": {},
   "outputs": [
    {
     "name": "stdout",
     "output_type": "stream",
     "text": [
      "w1\n"
     ]
    }
   ],
   "source": [
    "OCC=\"RES1\"\n",
    "print(CONST)"
   ]
  },
  {
   "cell_type": "markdown",
   "metadata": {},
   "source": [
    "You'll also need to specify the number of people who reside in your structure. That's the 'nighttime' population. Based on the number of people who work outside of the home, you will then specify a 'daytime' population as well as a 'transit' population. The latter refers to the number who would be at home during transit hours, and is usually somewhere between daytime and nighttime population. If you don't know exactly, just do your best. "
   ]
  },
  {
   "cell_type": "code",
   "execution_count": null,
   "metadata": {},
   "outputs": [],
   "source": [
    "NIGHT=\"6\"\n",
    "DAY=\"3\"\n",
    "TRANSIT=\"5\"\n",
    "echo $DAY $NIGHT $TRANSIT"
   ]
  },
  {
   "cell_type": "markdown",
   "metadata": {},
   "source": [
    "Finally, you'll need to decide on your seismic code level. This depends on the year that your structure was built (or retrofitted) as well as the design level at your site. The latter depends on your seismic hazard, which is expressed in terms of the Spectral Acceleration (SA) with a 2% in 50 year probability of exceedance, for long (Sl) and short (Ss) periods. You can find out the seismic hazard for your location with the [Earthquakes Canada Seismic Hazard Calculator](https://earthquakescanada.nrcan.gc.ca/hazard-alea/interpolat/calc-en.php). \n",
    "\n",
    "1. Enter your latitude and longitude, leaving all other fields at default. Hit 'Submit'.\n",
    "2. In the 2% in 50 year chart (top result), under a distance of 0 km, find your Sa(0.2) and Sa(1.0). \n",
    "3. Use those values with the chart below, as well as the year of construction/retrofit, to determine your code level.\n",
    "\n",
    "\t\t\t\t\t\n",
    "|UBC Seismic Zone (NEHRP Map Area)|Sa0.2|Sa1.0|2005-present|1990-2005|1973-1990|Pre-1973|\n",
    "|:--------------------------------|:----|:----|:-----------|:--------|:--------|:-------|\n",
    "|Zone 4 (Map Area 7)|SS > 1.500g|S1 > 0.600g|High-Code|High-Code|Moderate-Code|Pre-Code|\n",
    "|Zone 3 (Map Area 6)|1.000g < SS < 1.500g|0.400g < S1 < 0.600g|High-Code|Moderate-Code|Moderate-Code|Pre-Code|\t\t\n",
    "|Zone 2(Map Area 4/5)|0.500g < SS < 1.000g|0.200g < S1 < 0.400g|Moderate-Code|Moderate-Code|Low-Code|Pre-Code|\t\t\n",
    "|Zone 1 (Map Area 2/3)|0.250g < SS < 0.500g|0.100g < S1 < 0.200g|Low-Code|Low-Code|Pre-Code (W1=Low)|Pre-Code|\n",
    "|Zone 0 (Map Area 1)|SS < 0.250g |S1 < 0.100g |Low-Code |Pre-Code (W1=Low)|Pre-Code (W1=Low)|Pre-Code|\n",
    "\n",
    "4. Specify your code level in the prompt below, using acronyms.    \n",
    "    HC = High-Code    \n",
    "    MC = Mid-Code   \n",
    "    LC = Low-Code    \n",
    "    PC = Pre-Code"
   ]
  },
  {
   "cell_type": "code",
   "execution_count": null,
   "metadata": {},
   "outputs": [],
   "source": [
    "CODE=\"LC\"\n",
    "echo $CODE"
   ]
  },
  {
   "cell_type": "markdown",
   "metadata": {},
   "source": [
    "Now you can combine the features of your building into a csv exposure file. The code below is just printing all the information we've input so far into a new csv file called `exposure.csv`, formatted correctly for OQ. You can change the name or location in the first line under `FILE_OUTPUT`. Note that it will replace any pre-existing file with the same name in this location."
   ]
  },
  {
   "cell_type": "code",
   "execution_count": null,
   "metadata": {},
   "outputs": [],
   "source": [
    "CSV_OUTPUT=\"./exposure.csv\"\n",
    "\n",
    "TAXO=`echo $OCC $CONST $CODE | awk 'BEGIN {OFS=\"-\"} {print $1,$2,$3}'`\n",
    "ID=\"1\"; NUM=\"1\"\n",
    "echo \"id,lon,lat,taxonomy,number,day,night,transit,csdname\"\n",
    "echo $ID $LON $LAT $TAXO $NUM $DAY $NIGHT $TRANSIT $MUNI | awk 'BEGIN {OFS=\",\"} {print $1,$2,$3,$4,$5,$6,$7,$8,$9}'\n",
    "echo \"id,lon,lat,taxonomy,number,day,night,transit,csdname\" > ${CSV_OUTPUT}\n",
    "echo $ID $LON $LAT $TAXO $NUM $DAY $NIGHT $TRANSIT $MUNI | awk 'BEGIN {OFS=\",\"} {print $1,$2,$3,$4,$5,$6,$7,$8,$9}' >> ${CSV_OUTPUT}"
   ]
  },
  {
   "cell_type": "markdown",
   "metadata": {},
   "source": [
    "*Note that if you wanted to add extra buildings to your code then you could update the location, construction, occupant, and code-level variables in the appropriate snippets and run the following command to append your output csv file:*"
   ]
  },
  {
   "cell_type": "code",
   "execution_count": null,
   "metadata": {},
   "outputs": [],
   "source": [
    "TAXO=`echo $OCC $CONST $CODE | awk 'BEGIN {OFS=\"-\"} {print $1,$2,$3}'`\n",
    "echo $ID $LON $LAT $TAXO $NUM $DAY $NIGHT $TRANSIT $MUNI | awk 'BEGIN {OFS=\",\"} {print $1,$2,$3,$4,$5,$6,$7,$8,$9}'\n",
    "echo $ID $LON $LAT $TAXO $NUM $DAY $NIGHT $TRANSIT $MUNI | awk 'BEGIN {OFS=\",\"} {print $1,$2,$3,$4,$5,$6,$7,$8,$9}' >> ${CSV_OUTPUT}"
   ]
  },
  {
   "cell_type": "markdown",
   "metadata": {},
   "source": [
    "Now we will build the xml wrapper for our exposure file."
   ]
  },
  {
   "cell_type": "code",
   "execution_count": null,
   "metadata": {},
   "outputs": [],
   "source": [
    "XML_OUTPUT=\"./exposure.xml\"\n",
    "\n",
    "cat > exposure.xml << EOF\n",
    "<?xml version=\"1.0\" encoding=\"UTF-8\"?>\n",
    "<nrml xmlns=\"http://openquake.org/xmlns/nrml/0.4\">\n",
    "    <exposureModel id=\"ex1\" category=\"buildings\" taxonomySource=\"GEM taxonomy\">\n",
    "        <description></description>\n",
    "        <conversions>\n",
    "            <costTypes>\n",
    "            </costTypes>\n",
    "        </conversions>\n",
    "        <occupancyPeriods>day night transit</occupancyPeriods>\n",
    "        <tagNames>csdname</tagNames>\n",
    "    <assets>  \n",
    "        exposure.csv\n",
    "    </assets>\n",
    "    </exposureModel>\n",
    "</nrml>\n",
    "EOF"
   ]
  },
  {
   "cell_type": "markdown",
   "metadata": {},
   "source": [
    "----------------------------\n",
    "### Building An Earthquake Rupture\n",
    "\n",
    "Now we need an earthquake to shake the house with. In a future version, this tutorial can be used to build your own rupture. For now, we'll just call to the pre-existing Georgia Strait M7.3 scenario. It's included in the `what_you_need/` directory that accompanies this tutorial. "
   ]
  },
  {
   "cell_type": "code",
   "execution_count": null,
   "metadata": {},
   "outputs": [],
   "source": [
    "RUPTURE=\"what_you_need/rupture_AFM7p3_GSM.xml\""
   ]
  },
  {
   "cell_type": "markdown",
   "metadata": {},
   "source": [
    "-------------\n",
    "\n",
    "### Picking Soil Conditions\n",
    "Likewise, a future version of this tutorial will allow you to resample the National database files of site conditions (ex: `vs30_BC_site_model.csv`) to obtain a realistic estimate for your house. In the meantime, we'll use a value of 450 m/s to approximate stiff soil or loose rock (Site Class C).\n",
    "\n",
    "|Site Class|Profile Name|Vs30 (m/s)|\n",
    "|:--------:|:-----------|:---------|\n",
    "|A|Hard rock|Vs30 > 1500|\n",
    "|B|Rock|760 < Vs30 ≤ 1500|\n",
    "|C|Very dense soil and soft rock|360 < Vs30 ≤ 760|\n",
    "|D|Stiff soil|180 < Vs30 ≤ 360|\n",
    "|E|Soft soil|Vs30 < 180|\n",
    "\n",
    "Above summary table is taken from the [National Building Code of Canada 2015](https://nrc.canada.ca/en/certifications-evaluations-standards/codes-canada/codes-canada-publications/national-building-code-canada-2015)."
   ]
  },
  {
   "cell_type": "code",
   "execution_count": null,
   "metadata": {},
   "outputs": [],
   "source": [
    "VS30=450"
   ]
  },
  {
   "cell_type": "markdown",
   "metadata": {},
   "source": [
    "--------------\n",
    "### Ground Motion Prediction Equations\n",
    "\n",
    "We combine the pertinent Ground Motion Prediction Equations (GMPE's) into Ground Shaking Intensity Models (GSIM's) using a logic tree structure. This is helpful when we have multiple GMPE's, possibly with different relative weighting. In this case, we will use the GSIM logic tree invoked by the 5th Generation National Seismic Hazard Map of Canada [see Atkinson and Adams, 2013, Halchuk et al., 2014, Adams et al., 2015, Allen et al., 2017, Adams and Halchuk, 2019]. It's supplied in the `what_you_need` folder."
   ]
  },
  {
   "cell_type": "code",
   "execution_count": null,
   "metadata": {},
   "outputs": [],
   "source": [
    "GSIM=\"what_you_need/gmmLT_nbcc2015_activefault.xml\""
   ]
  },
  {
   "cell_type": "markdown",
   "metadata": {},
   "source": [
    "This GSIM has 3 GMPE's, representing the mean, upper, and lower limits on the shaking intensity. The GSIM's are developed for each tectonic environment, which we recognize with an acronym for naming:\n",
    "\n",
    "|Region|Acronym|Tectonic Environment|\n",
    "|:-----|:-----:|:-------------------|\n",
    "|East|SC|Stable Crust|\n",
    "|West|AC|Active Crust|\n",
    "||AF|Active Fault|\n",
    "||IS|Intraslab Shallow (30km)|\n",
    "||ID|Intraslab Deep (55km)|\n",
    "||SI|Subduction Interface|\n",
    "|Either|SM|USGS Shakemap|\n",
    "\n",
    "Because we're using a shallow event in the Georgia Strait near Vancouver, BC, we would use either Active Crust or Active Fault. The epicenter of our scenario event, however, is colocated on a fault that is known to have experienced seismicity in the last decades. Therefore, we've chosen Active Fault. "
   ]
  },
  {
   "cell_type": "markdown",
   "metadata": {},
   "source": [
    "------------\n",
    "### Fragility Functions\n",
    "\n",
    "For this exercise, we use a structural fragility file created by GEM, which relates the amount of shaking to the anticipated damage state of the building. These functions are based on HAZUS, and are undergoing updates to reflect Canadian building practices. The file is supplied for you in the `what_you_need` folder.\n",
    "\n",
    "![alt text](http://www.st-risk.com/FragilityCurves.jpg \"Fragility curves showing cumulative probability of damage versus spectral displacement\")"
   ]
  },
  {
   "cell_type": "code",
   "execution_count": null,
   "metadata": {},
   "outputs": [],
   "source": [
    "FRAG=\"what_you_need/structural_fragility.xml\""
   ]
  },
  {
   "cell_type": "markdown",
   "metadata": {},
   "source": [
    "-----------------------------\n",
    "-----------------------------\n",
    "## Scenario Damage\n",
    "\n",
    "### Build the Configuration/Initialization File\n",
    "\n",
    "The snippet below will build your configuration file. You can see that it has a comment at the top that allows you to leave yourself a note about what was involved in this run. Below, you will specify the exposure model we just built. \n",
    "\n",
    "Next we'll specify the soil/site parameters, the reference to the earthquake scenario rupture we built, the ground shaking intensity model (GSIM), and the fragility function. \n",
    "\n",
    "Don't worry too much for now about the rest of the values. You're welcome to play around with these parameters, or just hit 'run' to build the default file."
   ]
  },
  {
   "cell_type": "code",
   "execution_count": null,
   "metadata": {},
   "outputs": [],
   "source": [
    "cat > configDamage.ini << EOF\n",
    "[general]\n",
    "description = Scenario damage calculation - generated by CheckMyHouseTutorial Jupyter Notebook - showing to Joost, Will, Murray, Drew.\n",
    "calculation_mode = scenario_damage\n",
    "random_seed = 113\n",
    "\n",
    "[Exposure model]\n",
    "exposure_file = $XML_OUTPUT\n",
    "\n",
    "[site_params]\n",
    "reference_vs30_type = inferred\n",
    "reference_vs30_value = $VS30\n",
    "reference_depth_to_2pt5km_per_sec = 5.0\n",
    "reference_depth_to_1pt0km_per_sec = 100.0\n",
    "\n",
    "[Rupture information]\n",
    "rupture_model_file = $RUPTURE\n",
    "rupture_mesh_spacing = 2\n",
    "\n",
    "[Calculation parameters]\n",
    "gsim_logic_tree_file = $GSIM \n",
    "truncation_level = 3.0\n",
    "maximum_distance = 300.0\n",
    "number_of_ground_motion_fields = 500\n",
    "\n",
    "[fragility]\n",
    "structural_fragility_file = $FRAG\n",
    "\n",
    "[risk_calculation]\n",
    "master_seed = 42 \n",
    "EOF"
   ]
  },
  {
   "cell_type": "markdown",
   "metadata": {},
   "source": [
    "----------\n",
    "### Running Scenario Damage Calculator\n",
    "\n",
    "Now you're ready to run it! The command below will ask OQ to process our configuration file, which calls to all the other files we've talked about. \n",
    "\n",
    "And how about a soundtrack for while it runs?\n",
    "\n",
    "<a href=\"http://www.youtube.com/watch?feature=player_embedded&v=j6ZsqBqkQ-0&t=11\" target=\"_blank\"><img src=\"http://img.youtube.com/vi/j6ZsqBqkQ-0/0.jpg\" \n",
    "alt=\"Sante Les Amis - Brazil\" width=\"600\" border=\"10\" /></a>"
   ]
  },
  {
   "cell_type": "code",
   "execution_count": null,
   "metadata": {},
   "outputs": [],
   "source": [
    "oq engine --run configDamage.ini"
   ]
  },
  {
   "cell_type": "markdown",
   "metadata": {},
   "source": [
    "----------\n",
    "### Exporting the Output\n",
    "What damage state is your building in? Let's download the results in two ways. First, we will obtain the average results per asset (your house). This is the average number of buildings in each damage state, over all of the realizations we considered. In this case, it's like a probability of being in each damage state: none, slight, moderate, extensive, and complete. These damage states are described in detail in [this HAZUS Manual appendix](https://www.eeri.org/wp-content/uploads/Appendix-2-HAZUS-Damage-States.pdf). For reference, here it the description for a W1 building:    \n",
    "\n",
    "   * __Slight Damage__: Small plaster or gypsum-board cracks at corners of door and window openings and wall-ceiling intersections; small cracks in masonry chimneys and masonry veneer.    \n",
    "   * __Moderate Damage__: Large plaster or gypsum-board cracks at corners of door and window openings; small diagonal cracks across shear wall panels exhibited by small cracks in stucco and gypsum wall panels; large cracks in brick chimneys; toppling of tall masonry chimneys.     \n",
    "   * __Extensive Damage__: Large diagonal cracks across shear wall panels or large cracks at plywood joints; permanent lateral movement of floors and roof; toppling of most brick chimneys; cracks in foundations; splitting of wood sill plates and/or slippage of structure over foundations; partial collapse of “room-over-garage” or other “soft-story” configurations; small foundations cracks.     \n",
    "   * __Complete Damage__: Structure may have large permanent lateral displacement, may collapse, or be in imminent danger of collapse due to cripple wall failure or the failure of the lateral load resisting system; some structures may slip and fall off the foundations; large foundation cracks. Approximately 3% of the total area of W1 buildings with Complete damage is expected to be collapsed. "
   ]
  },
  {
   "cell_type": "code",
   "execution_count": null,
   "metadata": {},
   "outputs": [],
   "source": [
    "oq export dmg_by_asset -1"
   ]
  },
  {
   "cell_type": "markdown",
   "metadata": {},
   "source": [
    "Now we'll download the results per event. An 'event' refers to a realization of the rupture, ground motion, and soil conditions within their uncertainty space. You may have noticed that we specified 500 realizations for this calculation, and a ground motion prediction equation logic tree with 3 entries. That's 1500 'events' to sample from. And in each event, OQ assigns your house to a damage state. That's why this output will have integer values instead of fractions. "
   ]
  },
  {
   "cell_type": "code",
   "execution_count": null,
   "metadata": {},
   "outputs": [],
   "source": [
    "oq export dmg_by_event -1"
   ]
  },
  {
   "cell_type": "markdown",
   "metadata": {},
   "source": [
    "------------\n",
    "------------\n",
    "\n",
    "## Visualizing Outputs\n",
    "\n",
    "You can look at your outputs in a Geopspatial Information System (GIS) tool like QGIS, in a simple plotting program like matplotlib, or with spreadsheet software like Microsoft Excel. QGIS is a particularly attractive option because it has an OQ plugin that's designed to allow for rapid assessment of outputs. You could also use a hybrid visualization tool like Tableau, although it is well beyond the scope today. \n",
    "\n",
    "For today, we'll just use a Python-based tool called `matplotib` to extract the information from our csv outputs. The snippet below creates a python script and runs it. It should spit out the probability of the most likely damage state for your house to be in, as well as a pie chart of the relative probability of all damage states. You can practice playing around with the plotting, using one of the two styles shown below. For more information about pie charts and donuts, check out [this helpful reference](https://matplotlib.org/3.1.1/gallery/pie_and_polar_charts/pie_and_donut_labels.html)."
   ]
  },
  {
   "cell_type": "code",
   "execution_count": null,
   "metadata": {},
   "outputs": [],
   "source": [
    "cat > plotCheckMyHouse.py << EOF\n",
    "import numpy as np \n",
    "import matplotlib.pyplot as plt\n",
    "import pandas as pd\n",
    "import glob\n",
    "\n",
    "# Identify our selected output\n",
    "fileName = \"dmg_by_asset-rlz-001_???.csv\"\n",
    "file = glob.glob(fileName)\n",
    "\n",
    "# Import it\n",
    "data = pd.read_csv(str(file[0]))\n",
    "dmg=data.iloc[0]['structural~no_damage_mean'],data.iloc[0]['structural~slight_mean'],data.iloc[0]['structural~moderate_mean'],data.iloc[0]['structural~extensive_mean'],data.iloc[0]['structural~complete_mean']\n",
    "labels='None','Slight','Moderate','Extensive','Complete'\n",
    "\n",
    "# Find most likely damage state and emphasize it\n",
    "mostLikely=dmg.index(max(dmg))\n",
    "explo = [0]*len(dmg); explo[mostLikely]=explo[mostLikely]+0.1; explo2 = tuple(explo)\n",
    "print(\"You house has a \"+str(100*dmg[mostLikely])+\"% chance of being in Damage State \"+str(labels[mostLikely]))\n",
    "\n",
    "# Make a pie chart\n",
    "#fig1, ax1 = plt.subplots()\n",
    "#ax1.pie(dmg, labels=labels, explode=explo2, autopct='%1.1f%%', startangle=-70)\n",
    "#ax1.axis('equal')  # Equal aspect ratio ensures that pie is drawn as a circle.\n",
    "#plt.show()\n",
    "\n",
    "# Make a donut chart\n",
    "fig, ax = plt.subplots(figsize=(7, 3), subplot_kw=dict(aspect=\"equal\"))\n",
    "wedges, texts = ax.pie(dmg, wedgeprops=dict(width=0.5), startangle=-70)\n",
    "bbox_props = dict(boxstyle=\"square,pad=0.3\", fc=\"w\", ec=\"k\", lw=0.72)\n",
    "kw = dict(arrowprops=dict(arrowstyle=\"-\"),\n",
    "          bbox=bbox_props, zorder=0, va=\"center\")\n",
    "for i, p in enumerate(wedges):\n",
    "    ang = (p.theta2 - p.theta1)/2. + p.theta1\n",
    "    y = np.sin(np.deg2rad(ang))\n",
    "    x = np.cos(np.deg2rad(ang))\n",
    "    horizontalalignment = {-1: \"right\", 1: \"left\"}[int(np.sign(x))]\n",
    "    connectionstyle = \"angle,angleA=0,angleB={}\".format(ang)\n",
    "    kw[\"arrowprops\"].update({\"connectionstyle\": connectionstyle})\n",
    "    ax.annotate(labels[i], xy=(x, y), xytext=(1.35*np.sign(x), 1.4*y),\n",
    "                horizontalalignment=horizontalalignment, **kw)\n",
    "ax.set_title(\"Probability of Different Damage States\")\n",
    "plt.show()\n",
    "\n",
    "EOF\n",
    "\n",
    "python3 plotCheckMyHouse.py"
   ]
  },
  {
   "cell_type": "markdown",
   "metadata": {},
   "source": [
    "Be sure to close the figure window before trying to re-run this calculation. "
   ]
  },
  {
   "cell_type": "markdown",
   "metadata": {},
   "source": [
    "----------\n",
    "## The End\n",
    "\n",
    "Hopefully you've succesfully made it through, and have determined the probability of different damage states for your home in this scenario earthquake. You have also started thinking about the other datasets and models that are required for running OpenQuake, and experimented with plotting. Go celebrate your hard work!\n",
    "\n",
    "![alt text](https://media.giphy.com/media/f9RzoxHizH72k15FKS/giphy.gif \"Even Paul Rudd is proud of you!\")"
   ]
  }
 ],
 "metadata": {
  "kernelspec": {
   "display_name": "Python 3",
   "language": "python",
   "name": "python3"
  },
  "language_info": {
   "codemirror_mode": {
    "name": "ipython",
    "version": 3
   },
   "file_extension": ".py",
   "mimetype": "text/x-python",
   "name": "python",
   "nbconvert_exporter": "python",
   "pygments_lexer": "ipython3",
   "version": "3.6.8"
  }
 },
 "nbformat": 4,
 "nbformat_minor": 4
}
