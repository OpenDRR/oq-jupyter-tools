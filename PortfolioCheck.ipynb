{
 "cells": [
  {
   "cell_type": "markdown",
   "metadata": {},
   "source": [
    "Portfolio Check\n",
    "=====================\n",
    "\n",
    "An interactive OpenQuake (OQ) tool to build a portfolio of assets and check their risk. Written by Tiegan Hobbs ([tieganh](https://github.com/tieganh)) on 11 May 2020 for python. This document is intended for demonstration purposes, and licensed under a [Creative Commons Attribution-ShareAlike 4.0 International License](https://creativecommons.org/licenses/by-sa/4.0/). \n",
    "![alt text](https://i.creativecommons.org/l/by-sa/4.0/80x15.png \"CC BY-SA 4.0\")\n",
    "\n",
    "------------\n",
    "\n",
    "## Table of Contents \n",
    "\n",
    "0. [System Requirements](#System-Requirements)\n",
    "1. [Build Portfolio](#Build-Portfolio)\n",
    "2. [Run Scenario](#Run-Scenario)\n",
    "3. [View Report](#View-Report)\n"
   ]
  },
  {
   "cell_type": "markdown",
   "metadata": {},
   "source": [
    "----------\n",
    "---------\n",
    "\n",
    "# System Requirements\n",
    "To run this tutorial you will need to have OQ installed. Test it by running the code below to ensure you get a recent version (ex: '3.9.0-gitdcd091b') rather than an error. Assuming it works, run `oq webui start` in a terminal window to initialize the OQ web interface. If you encounter errors, see the [installation guide](https://github.com/gem/oq-engine/blob/master/doc/installing/development.md)."
   ]
  },
  {
   "cell_type": "code",
   "execution_count": 1,
   "metadata": {
    "scrolled": true
   },
   "outputs": [
    {
     "name": "stdout",
     "output_type": "stream",
     "text": [
      "here:  /Users/thobbs/openquake/src/oq-engine/openquake/hazardlib/gsim/NBCC2020_tables/BC17/BC17_2k_V2.hdf5\n",
      "3.9.0-gitdcd091b\n"
     ]
    }
   ],
   "source": [
    "%%bash\n",
    "oq --version"
   ]
  },
  {
   "cell_type": "markdown",
   "metadata": {},
   "source": [
    "-----------\n",
    "------------\n",
    "\n",
    "# Building Portfolio\n",
    "\n",
    "Drag the marker to your asset of concern, then click 'Point Selected'."
   ]
  },
  {
   "cell_type": "code",
   "execution_count": 2,
   "metadata": {
    "scrolled": false
   },
   "outputs": [
    {
     "data": {
      "application/vnd.jupyter.widget-view+json": {
       "model_id": "ab6209d41d7244f6a154166783a0b75f",
       "version_major": 2,
       "version_minor": 0
      },
      "text/plain": [
       "Map(center=[49.2609, -123.0924], controls=(ZoomControl(options=['position', 'zoom_in_text', 'zoom_in_title', '…"
      ]
     },
     "metadata": {},
     "output_type": "display_data"
    },
    {
     "data": {
      "application/vnd.jupyter.widget-view+json": {
       "model_id": "701e274640dc4b3eaa4c2d0e01b4cb0c",
       "version_major": 2,
       "version_minor": 0
      },
      "text/plain": [
       "Button(description='Point Selected', style=ButtonStyle())"
      ]
     },
     "metadata": {},
     "output_type": "display_data"
    }
   ],
   "source": [
    "from ipyleaflet import Map, Marker\n",
    "import ipywidgets as widgets\n",
    "from ipywidgets import HBox, VBox\n",
    "from IPython.display import display\n",
    "import numpy as np\n",
    "import matplotlib.pyplot as plt\n",
    "import pandas as pd\n",
    "import csv\n",
    "import glob\n",
    "import os\n",
    "\n",
    "center = (49.2609, -123.0924)\n",
    "m = Map(center=center, zoom=15)\n",
    "marker = Marker(location=center, draggable=True)\n",
    "m.add_layer(marker);\n",
    "\n",
    "display(m)\n",
    "\n",
    "button = widgets.Button(\n",
    "    description='Point Selected',\n",
    ")\n",
    "@button.on_click\n",
    "def plot_on_click(b):\n",
    "    global LAT, LON\n",
    "    LAT, LON = marker.location\n",
    "    print(\"Current latitude longitude are: \",'%.4f'%LAT,'%.4f'%LON)\n",
    "button"
   ]
  },
  {
   "cell_type": "markdown",
   "metadata": {},
   "source": [
    "----------\n",
    "Select your construction type from the dropdowns below. When finished, click 'Calculate Building'."
   ]
  },
  {
   "cell_type": "code",
   "execution_count": 3,
   "metadata": {
    "scrolled": true
   },
   "outputs": [
    {
     "data": {
      "application/vnd.jupyter.widget-view+json": {
       "model_id": "299d2800cf67428aaadb5b46db5b2920",
       "version_major": 2,
       "version_minor": 0
      },
      "text/plain": [
       "interactive(children=(Output(),), _dom_classes=('widget-interact',))"
      ]
     },
     "metadata": {},
     "output_type": "display_data"
    },
    {
     "data": {
      "application/vnd.jupyter.widget-view+json": {
       "model_id": "e9e51a6de9434fafb6ba8a4a7dd0ca88",
       "version_major": 2,
       "version_minor": 0
      },
      "text/plain": [
       "Button(description='Calculate Building', style=ButtonStyle())"
      ]
     },
     "metadata": {},
     "output_type": "display_data"
    }
   ],
   "source": [
    "#Creating a dataframe with the possible options\n",
    "df = pd.DataFrame([['Light [<5000 sq ft]','Commercial/Industrial [>5000 sq ft]'],\n",
    "             ['Steel Moment Frame','Steel Braced Frame','Steel Light Frame','Steel Frame with Cast-in-Place Concrete Shear Walls','Steel Frame with Unreinforced Masonry Infill Walls'],\n",
    "             ['Concrete Moment Frame','Concrete Shear Walls','Concrete with URM Infill'],\n",
    "             ['Precast Concrete Tilt-Up Walls','Precast Concrete Frames with Concrete Shear Walls'],\n",
    "             ['Reinforced Masonry with Wood/Metal Diaphragm','Reinforced Masonry with Precast Concrete Diaphragm'],\n",
    "             ['-'],\n",
    "             ['-']], index = ['Wood','Steel','Concrete','Precast','Reinforced Masonry','Unreinforced Masonry','Mobile Home']).transpose()\n",
    "\n",
    "#Define my widgets for this section\n",
    "bldgA_widget = widgets.Dropdown(options = ['Wood','Steel','Concrete','Precast','Reinforced Masonry','Unreinforced Masonry','Mobile Home'], value='Wood')\n",
    "bldgB_widget = widgets.Dropdown(options = ['Light [<5000 sq ft]','Commercial/Industrial [>5000 sq ft]'])\n",
    "Stor_widget = widgets.Dropdown(options = ['1-3 Storeys','4-7 Storeys','8+ Storeys'], value='1-3 Storeys')\n",
    "year_widget = widgets.Dropdown(options = ['Pre-1973','1973-1990','1990-2005','2005-present'], value='2005-present', description='Constructed?')\n",
    "\n",
    "# Define a function that updates the content of y based on what we select for x\n",
    "def update(*args):\n",
    "    bldgB_widget.options = df[bldgA_widget.value].dropna().unique().tolist()\n",
    "bldgA_widget.observe(update)\n",
    "\n",
    "# Call the widgets to specify building type\n",
    "@widgets.interact\n",
    "def random_function():\n",
    "    display(Stor_widget)\n",
    "    display(bldgA_widget)\n",
    "    display(bldgB_widget)\n",
    "    display(year_widget)\n",
    "\n",
    "# Calculate the building typology based on widget values\n",
    "def calc_building(bu):\n",
    "    global CONSTRUCTION, RISE, YRGROUP\n",
    "    if Stor_widget.value == '1-3 Storeys':\n",
    "        RISE = 'L'\n",
    "    elif Stor_widget.value == '4-7 Storeys':\n",
    "        RISE = 'M'\n",
    "    else:\n",
    "        RISE = 'H'\n",
    "    YRGROUP = year_widget.value\n",
    "    if bldgA_widget.value == 'Mobile Homes':\n",
    "        CONSTRUCTION = 'MH'\n",
    "    elif bldgA_widget.value == 'Wood':\n",
    "        if bldgB_widget.value == 'Light [<5000 sq ft]':\n",
    "            CONSTRUCTION = 'W1'\n",
    "        else:\n",
    "            CONSTRUCTION = 'W2'\n",
    "    else:\n",
    "        if bldgA_widget.value == 'Unreinforced Masonry':\n",
    "            if RISE == 'L':\n",
    "                CONSTRUCTION = 'URML'\n",
    "            else:\n",
    "                CONSTRUCTION = 'URMM'\n",
    "        elif bldgB_widget.value == 'Steel Moment Frame':\n",
    "            CONSTRUCTION = 'S1'+str(RISE)\n",
    "        elif bldgB_widget.value == 'Steel Braced Frame':\n",
    "            CONSTRUCTION = 'S2'+str(RISE)\n",
    "        elif bldgB_widget.value == 'Steel Light Frame':\n",
    "            CONSTRUCTION = 'S3'+str(RISE)\n",
    "        elif bldgB_widget.value == 'Steel Frame with Cast-in-Place Concrete Shear Walls':\n",
    "            CONSTRUCTION = 'S4'+str(RISE)\n",
    "        elif bldgB_widget.value == 'Steel Frame with Unreinforced Masonry Infill Walls':\n",
    "            CONSTRUCTION = 'S5'+str(RISE)\n",
    "        elif bldgB_widget.value == 'Concrete Moment Frame':\n",
    "            CONSTRUCTION = 'C1'+str(RISE)\n",
    "        elif bldgB_widget.value == 'Concrete Shear Walls':\n",
    "            CONSTRUCTION = 'C2'+str(RISE)\n",
    "        elif bldgB_widget.value == 'Concrete with URM Infill':\n",
    "            CONSTRUCTION = 'C3'+str(RISE)\n",
    "        elif bldgB_widget.value == 'Precast Concrete Tilt-Up Walls':\n",
    "            CONSTRUCTION = 'PC1'\n",
    "        elif bldgB_widget.value == 'Precast Concrete Frames with Concrete Shear Walls':\n",
    "            CONSTRUCTION = 'PC2'+str(RISE)\n",
    "        elif bldgB_widget.value == 'Reinforced Masonry with Wood/Metal Diaphragm':\n",
    "            CONSTRUCTION = 'RM1'+str(RISE)\n",
    "        elif bldgB_widget.value == 'Reinforced Masonry with Precast Concrete Diaphragm':\n",
    "            CONSTRUCTION = 'RM2'+str(RISE)\n",
    "        else:\n",
    "            CONSTRUCTION = 'NOPE'\n",
    "    print(CONSTRUCTION)\n",
    "\n",
    "# Call the button\n",
    "buttonCons = widgets.Button(description=\"Calculate Building\")\n",
    "buttonCons.on_click(calc_building)\n",
    "display(buttonCons)\n"
   ]
  },
  {
   "cell_type": "markdown",
   "metadata": {},
   "source": [
    "**NOTE: Waiting on data to assign building code correctly. Currently assigning all buildings to Zone 2 (no high code).**\n",
    "\n",
    "----------\n",
    "\n",
    "Select your occupancy class and number of occupants below. When finished, click 'Calculate Occupancy'."
   ]
  },
  {
   "cell_type": "code",
   "execution_count": 24,
   "metadata": {},
   "outputs": [
    {
     "data": {
      "application/vnd.jupyter.widget-view+json": {
       "model_id": "09bc6fcc23354ee4915cff90f380c945",
       "version_major": 2,
       "version_minor": 0
      },
      "text/plain": [
       "interactive(children=(Output(),), _dom_classes=('widget-interact',))"
      ]
     },
     "metadata": {},
     "output_type": "display_data"
    },
    {
     "data": {
      "application/vnd.jupyter.widget-view+json": {
       "model_id": "ebf134771eb246ee97260b12a51d1d94",
       "version_major": 2,
       "version_minor": 0
      },
      "text/plain": [
       "Button(description='Calculate Occupancy', style=ButtonStyle())"
      ]
     },
     "metadata": {},
     "output_type": "display_data"
    }
   ],
   "source": [
    "#Creating a dataframe with the possible options\n",
    "dfo = pd.DataFrame([['Single Family','Mobile Home','Multi Family','Temporary Lodging','Institutional Dormitory','Nursing Home'],\n",
    "             ['Retail Trade','Wholesale Trade','Personal & Repair Services','Professional/Technical Services','Banks','Hospital','Medical Office/Clinic','Entertainment & Recreation','Theaters','Parking'],\n",
    "             ['Heavy','Light','Food/Drugs/Chemicals','Metal/Minerals Processing','High Technology','Construction'],\n",
    "             ['Agriculture'],\n",
    "             ['Church/Non Profit'],\n",
    "             ['General Services','Emergency Response'],\n",
    "             ['Grade Schools','Colleges/Universities']], index = ['Residential','Commercial','Industrial','Agriculture','Religion/Non Profit','Government','Education']).transpose()\n",
    "\n",
    "#Define my widgets for this section\n",
    "\n",
    "occA_widget = widgets.Dropdown(options = ['Residential','Commercial','Industrial','Agriculture','Religion/Non Profit','Government','Education'], value='Residential')\n",
    "occB_widget = widgets.Dropdown(options = ['Single Family','Mobile Home','Multi Family','Temporary Lodging','Institutional Dormitory','Nursing Home'])\n",
    "optional_widget = widgets.Dropdown(options = ['Duplex','3-4 Units','5-9 Units','10-19 Units','20-49 Units','50+ Units'], value='Duplex')\n",
    "nightin = widgets.BoundedIntText(description=\"Night\", min=0, max=1000)\n",
    "dayin = widgets.BoundedIntText(description=\"Day\", min=0, max=1000)\n",
    "transin = widgets.BoundedIntText(description=\"Transit\", min=0, max=1000)\n",
    "\n",
    "# Define a function that updates the content of y based on what we select for x\n",
    "def update(*args):\n",
    "    occB_widget.options = dfo[occA_widget.value].dropna().unique().tolist()\n",
    "occA_widget.observe(update)\n",
    "\n",
    "def updateagain(*args):\n",
    "    if occB_widget.value == 'Multi Family':\n",
    "        display(optional_widget)\n",
    "occB_widget.observe(updateagain, names=['value'])\n",
    "\n",
    "# Call the widgets to specify building type\n",
    "@widgets.interact\n",
    "def random_function():\n",
    "    display(occA_widget)\n",
    "    display(occB_widget)\n",
    "    print(\"Occupants:\")\n",
    "    display(nightin)\n",
    "    display(dayin)\n",
    "    display(transin)\n",
    "\n",
    "def calc_occ(wut):\n",
    "    global OCC, DAY, NIGHT, TRANSIT\n",
    "    if occB_widget.value == 'Single Family':\n",
    "        OCC = 'RES1'\n",
    "    elif occB_widget.value == 'Mobile Home':\n",
    "        OCC = 'RES2'\n",
    "    elif occB_widget.value == 'Multi Family':\n",
    "        if optional_widget.value == 'Duplex':\n",
    "            OCC = 'RES3A'\n",
    "        elif optional_widget.value == '3-4 Units':\n",
    "            OCC = 'RES3B'\n",
    "        elif optional_widget.value == '5-9 Units':\n",
    "            OCC = 'RES3C'\n",
    "        elif optional_widget.value == '10-19 Units':\n",
    "            OCC = 'RES3D'\n",
    "        elif optional_widget.value == '20-49 Units':\n",
    "            OCC = 'RES3E'\n",
    "        elif optional_widget.value == '50+ Units':\n",
    "            OCC = 'RES3F'\n",
    "    elif occB_widget.value == 'Temporary Lodging':\n",
    "        OCC = 'RES4'\n",
    "    elif occB_widget.value == 'Institutional Dormitory':\n",
    "        OCC = 'RES5'\n",
    "    elif occB_widget.value == 'Nursing Home':\n",
    "        OCC = 'RES6'\n",
    "    elif occB_widget.value == 'Retail Trade':\n",
    "        OCC = 'COM1'\n",
    "    elif occB_widget.value == 'Wholesale Trade':\n",
    "        OCC = 'COM2'\n",
    "    elif occB_widget.value == 'Personal & Repair Services':\n",
    "        OCC = 'COM3'\n",
    "    elif occB_widget.value == 'Professional/Technical Services':\n",
    "        OCC = 'COM4'\n",
    "    elif occB_widget.value == 'Banks':\n",
    "        OCC = 'COM5'\n",
    "    elif occB_widget.value == 'Hospital':\n",
    "        OCC = 'COM6'\n",
    "    elif occB_widget.value == 'Medical Office/Clinic':\n",
    "        OCC = 'COM7'\n",
    "    elif occB_widget.value == 'Entertainment & Recreation':\n",
    "        OCC = 'COM8'\n",
    "    elif occB_widget.value == 'Theaters':\n",
    "        OCC = 'COM9'\n",
    "    elif occB_widget.value == 'Parking':\n",
    "        OCC = 'COM10'\n",
    "    elif occB_widget.value == 'Heavy':\n",
    "        OCC = 'IND1'\n",
    "    elif occB_widget.value == 'Light':\n",
    "        OCC = 'IND2'\n",
    "    elif occB_widget.value == 'Food/Drugs/Chemicals':\n",
    "        OCC = 'IND3'\n",
    "    elif occB_widget.value == 'Metal/Minerals Processing':\n",
    "        OCC = 'IND4'\n",
    "    elif occB_widget.value == 'High Technology':\n",
    "        OCC = 'IND5'\n",
    "    elif occB_widget.value == 'Construction':\n",
    "        OCC = 'IND6'\n",
    "    elif occB_widget.value == 'General Services':\n",
    "        OCC = 'GOV1'\n",
    "    elif occB_widget.value == 'Emergency Response':\n",
    "        OCC = 'GOV2'\n",
    "    elif occB_widget.value == 'Agriculture':\n",
    "        OCC = 'AGR1'\n",
    "    elif occB_widget.value == 'Church/Non Profit':\n",
    "        OCC = 'REL1'\n",
    "    elif occB_widget.value == 'Grade Schools':\n",
    "        OCC = 'EDU1'\n",
    "    elif occB_widget.value == 'Colleges/Universities':\n",
    "        OCC = 'EDU2'\n",
    "    else:\n",
    "        OCC = 'NOPE'\n",
    "    NIGHT=nightin.value\n",
    "    DAY=dayin.value\n",
    "    TRANSIT=transin.value\n",
    "    print(OCC, DAY, NIGHT, TRANSIT)\n",
    "        \n",
    "buttonOcc = widgets.Button(description = \"Calculate Occupancy\")\n",
    "buttonOcc.on_click(calc_occ)\n",
    "display(buttonOcc)"
   ]
  },
  {
   "cell_type": "markdown",
   "metadata": {},
   "source": [
    "--------\n",
    "\n",
    "Use the button below to add this building to your Portfolio. \n",
    "\n",
    "You can add more buildings by changing above parameters and clicking this button to add them. "
   ]
  },
  {
   "cell_type": "code",
   "execution_count": 5,
   "metadata": {},
   "outputs": [
    {
     "data": {
      "application/vnd.jupyter.widget-view+json": {
       "model_id": "ea1887318e784025bf78355156528727",
       "version_major": 2,
       "version_minor": 0
      },
      "text/plain": [
       "Button(description='Add Building', style=ButtonStyle())"
      ]
     },
     "metadata": {},
     "output_type": "display_data"
    }
   ],
   "source": [
    "# Build dataframe from code-year chart\n",
    "codetable = pd.DataFrame([['PC','PC','PC','PC','PC'],\n",
    "                         ['MC','MC','LC','PC','PC'],\n",
    "                         ['HC','MC','MC','LC','PC'],\n",
    "                         ['HC','HC','MC','LC','LC']], index=['Pre-1973','1973-1990','1990-2005','2005-present']).transpose()\n",
    "\n",
    "# Initialize CSV file\n",
    "CSV_OUTPUT=\"./exposure.csv\"\n",
    "ID=1; NUM=\"1\"\n",
    "with open(CSV_OUTPUT, 'w', newline='') as outcsv:\n",
    "    writer = csv.writer(outcsv)\n",
    "    writer.writerow([\"id\",\"lon\",\"lat\",\"taxonomy\",\"number\",\"day\",\"night\",\"transit\"])\n",
    "    \n",
    "# Define function to add line to csv\n",
    "def append_list_as_row(file_name, list_of_elem):\n",
    "    # Open file in append mode\n",
    "    with open(file_name, 'a+', newline='') as write_obj:\n",
    "        # Create a writer object from csv module\n",
    "        csv_writer = csv.writer(write_obj)\n",
    "        # Add contents of list as last row in the csv file\n",
    "        csv_writer.writerow(list_of_elem)\n",
    "\n",
    "# Define button to add the line to csv file\n",
    "buttonAdd = widgets.Button(description = \"Add Building\")\n",
    "\n",
    "def evaluate(buttonAdd):\n",
    "    global ID\n",
    "    if RISE == 'L':\n",
    "        SA = 1.4998 #fetch SA(0.2)\n",
    "    \n",
    "        if SA >= 1.500:\n",
    "            CODE = codetable[YRGROUP].iloc[0]\n",
    "        elif 1.000 <= SA < 1.500:\n",
    "            CODE = codetable[YRGROUP].iloc[1]\n",
    "        elif 0.500 <= SA < 1.000:\n",
    "            CODE = codetable[YRGROUP].iloc[2]\n",
    "        elif 0.250 <= SA < 0.500:\n",
    "            CODE = codetable[YRGROUP].iloc[3]\n",
    "        elif SA < 0.250:\n",
    "            CODE = codetable[YRGROUP].iloc[4]\n",
    "    else:\n",
    "        SA = 0.41 #fetch SA(1.0)\n",
    "        if SA >= 0.600:\n",
    "            CODE = codetable[YRGROUP].iloc[0]\n",
    "        elif 0.400 <= SA < 0.600:\n",
    "            CODE = codetable[YRGROUP].iloc[1]\n",
    "        elif 0.200 <= SA < 0.400:\n",
    "            CODE = codetable[YRGROUP].iloc[2]\n",
    "        elif 0.100 <= SA < 0.200:\n",
    "            CODE = codetable[YRGROUP].iloc[3]\n",
    "        elif SA < 0.100:\n",
    "            CODE = codetable[YRGROUP].iloc[4]\n",
    "\n",
    "    if (CODE == 'PC') & (CONSTRUCTION == 'W1') & (YRGROUP != 'Pre-1973'):\n",
    "        CODE = 'LC'\n",
    "\n",
    "    TAXO = str(OCC)+\"-\"+str(CONSTRUCTION)+\"-\"+str(CODE)\n",
    "    print(\"id,lon,lat,taxonomy,number,day,night,transit\")\n",
    "    newline = [str(ID),str(LON),str(LAT),str(TAXO),str(NUM),str(DAY),str(NIGHT),str(TRANSIT)]\n",
    "    print(ID,'%.4f'%LON,'%.4f'%LAT,TAXO,NUM,DAY,NIGHT,TRANSIT,sep=\",\")\n",
    "    \n",
    "    ID = ID + 1\n",
    "    \n",
    "    #Add to CSV\n",
    "    append_list_as_row(CSV_OUTPUT, newline)\n",
    "\n",
    "\n",
    "\n",
    "buttonAdd.on_click(evaluate)\n",
    "display(buttonAdd)\n",
    "\n",
    "\n",
    "\n",
    "\n"
   ]
  },
  {
   "cell_type": "markdown",
   "metadata": {},
   "source": [
    "-----------\n",
    "---------\n",
    "\n",
    "# Run Calculation\n",
    "\n",
    "**NOTE: Currently treating soil as stiff, reasonable for Vancouver. In future will be able to query database to get location-specific result.**"
   ]
  },
  {
   "cell_type": "code",
   "execution_count": 6,
   "metadata": {},
   "outputs": [],
   "source": [
    "%%bash\n",
    "\n",
    "#Build the rest of the files\n",
    "XML_OUTPUT=\"./exposure.xml\"\n",
    "\n",
    "cat > exposure.xml << EOF\n",
    "<?xml version=\"1.0\" encoding=\"UTF-8\"?>\n",
    "<nrml xmlns=\"http://openquake.org/xmlns/nrml/0.4\">\n",
    "    <exposureModel id=\"ex1\" category=\"buildings\" taxonomySource=\"GEM taxonomy\">\n",
    "        <description></description>\n",
    "        <conversions>\n",
    "            <costTypes>\n",
    "            </costTypes>\n",
    "        </conversions>\n",
    "        <occupancyPeriods>day night transit</occupancyPeriods>\n",
    "        <tagNames></tagNames>\n",
    "    <assets>  \n",
    "        exposure.csv\n",
    "    </assets>\n",
    "    </exposureModel>\n",
    "</nrml>\n",
    "EOF\n",
    "\n",
    "FRAG=\"what_you_need/structural_fragility.xml\"\n",
    "RUPTURE=\"what_you_need/rupture_AFM7p3_GSM.xml\"\n",
    "VS30=450\n",
    "GSIM=\"what_you_need/gmmLT_nbcc2015_activefault.xml\"\n",
    "\n",
    "cat > configDamage.ini << EOF\n",
    "[general]\n",
    "description = Scenario damage calculation - generated by CheckMyHouseTutorial Jupyter Notebook - showing to Joost, Will, Murray, Drew.\n",
    "calculation_mode = scenario_damage\n",
    "random_seed = 113\n",
    "concurrent_tasks = 500\n",
    "\n",
    "[Exposure model]\n",
    "exposure_file = $XML_OUTPUT\n",
    "\n",
    "[site_params]\n",
    "reference_vs30_type = inferred\n",
    "reference_vs30_value = $VS30\n",
    "reference_depth_to_2pt5km_per_sec = 5.0\n",
    "reference_depth_to_1pt0km_per_sec = 100.0\n",
    "\n",
    "[Rupture information]\n",
    "rupture_model_file = $RUPTURE\n",
    "rupture_mesh_spacing = 2\n",
    "\n",
    "[Calculation parameters]\n",
    "gsim_logic_tree_file = $GSIM \n",
    "truncation_level = 3.0\n",
    "maximum_distance = 300.0\n",
    "number_of_ground_motion_fields = 500\n",
    "\n",
    "[fragility]\n",
    "structural_fragility_file = $FRAG\n",
    "\n",
    "[risk_calculation]\n",
    "master_seed = 42 \n",
    "EOF"
   ]
  },
  {
   "cell_type": "code",
   "execution_count": 7,
   "metadata": {},
   "outputs": [
    {
     "data": {
      "application/vnd.jupyter.widget-view+json": {
       "model_id": "2341c413252446f7bb1e9b4199b01a7d",
       "version_major": 2,
       "version_minor": 0
      },
      "text/plain": [
       "Button(description='Run Damage Calc', style=ButtonStyle())"
      ]
     },
     "metadata": {},
     "output_type": "display_data"
    }
   ],
   "source": [
    "import multiprocess\n",
    "oq=\"/Users/thobbs/openquake/oqenv/bin/oq\"\n",
    "\n",
    "# Define button to add the line to csv file\n",
    "buttonRun = widgets.Button(description = \"Run Damage Calc\")\n",
    "def evaluate(buttonRun):\n",
    "    %run $oq engine --no-distribute --run configDamage.ini\n",
    "    %run $oq export dmg_by_asset -1\n",
    "    \n",
    "buttonRun.on_click(evaluate)\n",
    "display(buttonRun)\n"
   ]
  },
  {
   "cell_type": "markdown",
   "metadata": {},
   "source": [
    "----------\n",
    "---------\n",
    "\n",
    "# View Report"
   ]
  },
  {
   "cell_type": "code",
   "execution_count": 55,
   "metadata": {},
   "outputs": [
    {
     "data": {
      "application/vnd.jupyter.widget-view+json": {
       "model_id": "41bf2d33bff44af580f044dabc5fb25a",
       "version_major": 2,
       "version_minor": 0
      },
      "text/plain": [
       "VBox(children=(Button(description='Generate Report', style=ButtonStyle()), Output()))"
      ]
     },
     "metadata": {},
     "output_type": "display_data"
    },
    {
     "data": {
      "application/vnd.jupyter.widget-view+json": {
       "model_id": "e61a80c748f3401ea9a65011087a3dda",
       "version_major": 2,
       "version_minor": 0
      },
      "text/plain": [
       "Canvas(toolbar=Toolbar(toolitems=[('Home', 'Reset original view', 'home', 'home'), ('Back', 'Back to  previous…"
      ]
     },
     "metadata": {},
     "output_type": "display_data"
    },
    {
     "name": "stdout",
     "output_type": "stream",
     "text": [
      "dmg_by_asset-rlz-001_265.csv\n"
     ]
    }
   ],
   "source": [
    "%matplotlib widget\n",
    "\n",
    "import matplotlib.pyplot as plt\n",
    "import numpy as np\n",
    "import ipywidgets as widgets\n",
    "from IPython.display import display\n",
    "\n",
    "\n",
    "\n",
    "\n",
    "button = widgets.Button(description='Generate Report')\n",
    "out=widgets.Output()\n",
    "display(widgets.VBox([button,out]))\n",
    "\n",
    "fig, ax = plt.subplots(1)\n",
    "\n",
    "def get_fig():\n",
    "    global rows\n",
    "    # Identify most recently modified dmg_by_asset file, and import it\n",
    "    # Assumes realization 001 for NBCC2015.\n",
    "    fileName = \"dmg_by_asset-rlz-001_???.csv\"\n",
    "    file = sorted(glob.glob(fileName), key=os.path.getmtime, reverse=True)\n",
    "    print(file[0])\n",
    "\n",
    "    # Import it\n",
    "    data = pd.read_csv(str(file[0]))\n",
    "\n",
    "    # Find most likely damage state and emphasize it\n",
    "    dmg = data.filter(['structural~no_damage_mean','structural~slight_mean','structural~moderate_mean','structural~extensive_mean','structural~complete_mean'], axis=1)\n",
    "    dmg.columns = ['NoDamage','Slight','Moderate','Extensive','Complete']\n",
    "    HighestProb = np.round(np.multiply(dmg.max(axis=1),100),0)\n",
    "    MostLikelyState = dmg.idxmax(axis=1)\n",
    "    data['MostLikelyState'] = MostLikelyState\n",
    "    data[\"Probability [%]\"] = HighestProb\n",
    "\n",
    "    # Export table to csv \n",
    "    data.to_csv(r'PortfolioDamage.csv', index = False)\n",
    "    # Plot Cumulative Portfolio State \n",
    "    # Based on https://matplotlib.org/3.2.1/gallery/misc/table_demo.html#sphx-glr-gallery-misc-table-demo-py\n",
    "    columns = dmg.columns.tolist()\n",
    "    rows = data['taxonomy'].tolist()\n",
    "    dmgforplot = dmg.values/len(rows)\n",
    "    values = np.arange(0, 1, 0.05)\n",
    "    value_increment = 0.1\n",
    "    colors = plt.cm.BuPu(np.linspace(0.2, 0.6, len(rows)))\n",
    "    n_rows = len(dmgforplot)\n",
    "    index = np.arange(len(columns)) + 0.3\n",
    "    bar_width = 0.4\n",
    "    y_offset = np.zeros(len(columns))\n",
    "\n",
    "    # Plot bars and create text labels for the table\n",
    "    cell_text = dmg.values.tolist()\n",
    "    #cell_text = []\n",
    "    for row in range(n_rows):\n",
    "        ax.bar(index, dmgforplot[row], bar_width, bottom=y_offset, color=colors[row])\n",
    "        y_offset = y_offset + (dmgforplot[row])\n",
    "        #cell_text.append(['%1.1f' % (x * 100.0) for x in dmgforplot[row]])\n",
    "    # Reverse colors and text labels to display the last value at the top.\n",
    "    colors = colors[::-1]\n",
    "    #cell_text.reverse()\n",
    "    \n",
    "    # Add a table at the bottom of the axes\n",
    "    the_table = ax.table(cellText=cell_text,\n",
    "                          rowLabels=rows,\n",
    "                          rowColours=colors,\n",
    "                          colLabels=columns,\n",
    "                          loc='bottom')\n",
    "    # Adjust layout to make room for the table:\n",
    "    plt.subplots_adjust(left=0.2, bottom=0.2)\n",
    "    \n",
    "    plt.ylabel(\"Normalized Portfolio Probability\")\n",
    "    plt.xticks([])\n",
    "    plt.title('Damage State for Portfolio Assets')\n",
    "\n",
    "get_fig()\n",
    "\n",
    "def on_button_clicked(b):\n",
    "    plt.cla()\n",
    "    get_fig()\n",
    "    \n",
    "button.on_click(on_button_clicked)"
   ]
  },
  {
   "cell_type": "code",
   "execution_count": null,
   "metadata": {},
   "outputs": [],
   "source": []
  }
 ],
 "metadata": {
  "kernelspec": {
   "display_name": "Python 3",
   "language": "python",
   "name": "python3"
  },
  "language_info": {
   "codemirror_mode": {
    "name": "ipython",
    "version": 3
   },
   "file_extension": ".py",
   "mimetype": "text/x-python",
   "name": "python",
   "nbconvert_exporter": "python",
   "pygments_lexer": "ipython3",
   "version": "3.6.8"
  }
 },
 "nbformat": 4,
 "nbformat_minor": 4
}
