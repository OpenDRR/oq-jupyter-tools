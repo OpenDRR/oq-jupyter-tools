{
 "cells": [
  {
   "cell_type": "markdown",
   "metadata": {},
   "source": [
    "Portfolio Check\n",
    "=====================\n",
    "\n",
    "An interactive OpenQuake (OQ) tool to build a portfolio of assets and check their risk. Written by Tiegan Hobbs ([tieganh](https://github.com/tieganh)) on 11 May 2020 for python. This document is intended for demonstration purposes, and licensed under a [Creative Commons Attribution-ShareAlike 4.0 International License](https://creativecommons.org/licenses/by-sa/4.0/). \n",
    "![alt text](https://i.creativecommons.org/l/by-sa/4.0/80x15.png \"CC BY-SA 4.0\")\n",
    "\n",
    "------------\n",
    "\n",
    "## Table of Contents \n",
    "\n",
    "1. [Build Portfolio](#Build-Portfolio)\n",
    "2. [Run Scenario](#Run-Scenario)\n",
    "3. [View Report](#View-Report)\n"
   ]
  },
  {
   "cell_type": "markdown",
   "metadata": {},
   "source": [
    "----------\n",
    "---------\n",
    "\n",
    "## Running OpenQuake\n",
    "To run this tutorial you will need to have OQ installed. Test it by running the code below to ensure you get a recent version (ex: '3.9.0-gitdcd091b') rather than an error. Assuming it works, run `oq webui start` in a terminal window to initialize the OQ web interface. If you encounter errors, see the [installation guide](https://github.com/gem/oq-engine/blob/master/doc/installing/development.md)."
   ]
  },
  {
   "cell_type": "code",
   "execution_count": 1,
   "metadata": {
    "scrolled": true
   },
   "outputs": [
    {
     "name": "stdout",
     "output_type": "stream",
     "text": [
      "here:  /Users/thobbs/openquake/src/oq-engine/openquake/hazardlib/gsim/NBCC2020_tables/BC17/BC17_2k_V2.hdf5\n",
      "3.9.0-gitdcd091b\n"
     ]
    }
   ],
   "source": [
    "%%bash\n",
    "oq --version"
   ]
  },
  {
   "cell_type": "markdown",
   "metadata": {},
   "source": [
    "-----------\n",
    "\n",
    "## Building Portfolio\n",
    "\n",
    "Drag the marker to your asset of concern, then click 'Point Selected'."
   ]
  },
  {
   "cell_type": "code",
   "execution_count": 2,
   "metadata": {
    "scrolled": false
   },
   "outputs": [
    {
     "data": {
      "application/vnd.jupyter.widget-view+json": {
       "model_id": "702641c6067643c488b1505cf6b5c27e",
       "version_major": 2,
       "version_minor": 0
      },
      "text/plain": [
       "Map(center=[49.2609, -123.0924], controls=(ZoomControl(options=['position', 'zoom_in_text', 'zoom_in_title', '…"
      ]
     },
     "metadata": {},
     "output_type": "display_data"
    },
    {
     "data": {
      "application/vnd.jupyter.widget-view+json": {
       "model_id": "da216025ffbe49249dcd0bdaa0d5f0c6",
       "version_major": 2,
       "version_minor": 0
      },
      "text/plain": [
       "Button(description='Point Selected', style=ButtonStyle())"
      ]
     },
     "metadata": {},
     "output_type": "display_data"
    },
    {
     "name": "stdout",
     "output_type": "stream",
     "text": [
      "Current latitude longitude are:  49.2609 -123.0924\n"
     ]
    }
   ],
   "source": [
    "from ipyleaflet import Map, Marker\n",
    "import ipywidgets as widgets\n",
    "from ipywidgets import HBox, VBox\n",
    "from IPython.display import display\n",
    "import numpy as np\n",
    "import matplotlib.pyplot as plt\n",
    "import pandas as pd\n",
    "import csv\n",
    "\n",
    "center = (49.2609, -123.0924)\n",
    "m = Map(center=center, zoom=15)\n",
    "marker = Marker(location=center, draggable=True)\n",
    "m.add_layer(marker);\n",
    "\n",
    "display(m)\n",
    "\n",
    "button = widgets.Button(\n",
    "    description='Point Selected',\n",
    ")\n",
    "@button.on_click\n",
    "def plot_on_click(b):\n",
    "    global LAT, LON\n",
    "    LAT, LON = marker.location\n",
    "    print(\"Current latitude longitude are: \",'%.4f'%LAT,'%.4f'%LON)\n",
    "button"
   ]
  },
  {
   "cell_type": "markdown",
   "metadata": {},
   "source": [
    "----------\n",
    "Select your construction type from the dropdowns below. When finished, click 'Calculate Building'."
   ]
  },
  {
   "cell_type": "code",
   "execution_count": 3,
   "metadata": {
    "scrolled": true
   },
   "outputs": [
    {
     "data": {
      "application/vnd.jupyter.widget-view+json": {
       "model_id": "8e013ffc6e434a789bb84ad517e5bad8",
       "version_major": 2,
       "version_minor": 0
      },
      "text/plain": [
       "interactive(children=(Output(),), _dom_classes=('widget-interact',))"
      ]
     },
     "metadata": {},
     "output_type": "display_data"
    },
    {
     "data": {
      "application/vnd.jupyter.widget-view+json": {
       "model_id": "8e80119b233b42ed88d649a027f27e75",
       "version_major": 2,
       "version_minor": 0
      },
      "text/plain": [
       "Button(description='Calculate Building', style=ButtonStyle())"
      ]
     },
     "metadata": {},
     "output_type": "display_data"
    },
    {
     "name": "stdout",
     "output_type": "stream",
     "text": [
      "W1\n"
     ]
    }
   ],
   "source": [
    "\n",
    "\n",
    "\n",
    "#Creating a dataframe with the possible options\n",
    "df = pd.DataFrame([['Light [<5000 sq ft]','Commercial/Industrial [>5000 sq ft]'],\n",
    "             ['Steel Moment Frame','Steel Braced Frame','Steel Light Frame','Steel Frame with Cast-in-Place Concrete Shear Walls','Steel Frame with Unreinforced Masonry Infill Walls'],\n",
    "             ['Concrete Moment Frame','Concrete Shear Walls','Concrete with URM Infill'],\n",
    "             ['Precast Concrete Tilt-Up Walls','Precast Concrete Frames with Concrete Shear Walls'],\n",
    "             ['Reinforced Masonry with Wood/Metal Diaphragm','Reinforced Masonry with Precast Concrete Diaphragm'],\n",
    "             ['-'],\n",
    "             ['-']], index = ['Wood','Steel','Concrete','Precast','Reinforced Masonry','Unreinforced Masonry','Mobile Home']).transpose()\n",
    "\n",
    "#Define my widgets for this section\n",
    "bldgA_widget = widgets.Dropdown(options = ['Wood','Steel','Concrete','Precast','Reinforced Masonry','Unreinforced Masonry','Mobile Home'], value='Wood')\n",
    "bldgB_widget = widgets.Dropdown(options = ['Light [<5000 sq ft]','Commercial/Industrial [>5000 sq ft]'])\n",
    "Stor_widget = widgets.Dropdown(options = ['1-3 Storeys','4-7 Storeys','8+ Storeys'], value='1-3 Storeys')\n",
    "year_widget = widgets.Dropdown(options = ['Pre-1973','1973-1990','1990-2005','2005-present'], value='2005-present', description='Constructed?')\n",
    "\n",
    "# Define a function that updates the content of y based on what we select for x\n",
    "def update(*args):\n",
    "    bldgB_widget.options = df[bldgA_widget.value].dropna().unique().tolist()\n",
    "bldgA_widget.observe(update)\n",
    "\n",
    "# Call the widgets to specify building type\n",
    "@widgets.interact\n",
    "def random_function():\n",
    "    display(Stor_widget)\n",
    "    display(bldgA_widget)\n",
    "    display(bldgB_widget)\n",
    "    display(year_widget)\n",
    "\n",
    "# Calculate the building typology based on widget values\n",
    "def calc_building(bu):\n",
    "    global CONSTRUCTION, RISE, YRGROUP\n",
    "    if Stor_widget.value == '1-3 Storeys':\n",
    "        RISE = 'L'\n",
    "    elif Stor_widget.value == '4-7 Storeys':\n",
    "        RISE = 'M'\n",
    "    else:\n",
    "        RISE = 'H'\n",
    "    YRGROUP = year_widget.value\n",
    "    if bldgA_widget.value == 'Mobile Homes':\n",
    "        CONSTRUCTION = 'MH'\n",
    "    elif bldgA_widget.value == 'Wood':\n",
    "        if bldgB_widget.value == 'Light [<5000 sq ft]':\n",
    "            CONSTRUCTION = 'W1'\n",
    "        else:\n",
    "            CONSTRUCTION = 'W2'\n",
    "    else:\n",
    "        if bldgA_widget.value == 'Unreinforced Masonry':\n",
    "            if RISE == 'L':\n",
    "                CONSTRUCTION = 'URML'\n",
    "            else:\n",
    "                CONSTRUCTION = 'URMM'\n",
    "        elif bldgB_widget.value == 'Steel Moment Frame':\n",
    "            CONSTRUCTION = 'S1'+str(RISE)\n",
    "        elif bldgB_widget.value == 'Steel Braced Frame':\n",
    "            CONSTRUCTION = 'S2'+str(RISE)\n",
    "        elif bldgB_widget.value == 'Steel Light Frame':\n",
    "            CONSTRUCTION = 'S3'+str(RISE)\n",
    "        elif bldgB_widget.value == 'Steel Frame with Cast-in-Place Concrete Shear Walls':\n",
    "            CONSTRUCTION = 'S4'+str(RISE)\n",
    "        elif bldgB_widget.value == 'Steel Frame with Unreinforced Masonry Infill Walls':\n",
    "            CONSTRUCTION = 'S5'+str(RISE)\n",
    "        elif bldgB_widget.value == 'Concrete Moment Frame':\n",
    "            CONSTRUCTION = 'C1'+str(RISE)\n",
    "        elif bldgB_widget.value == 'Concrete Shear Walls':\n",
    "            CONSTRUCTION = 'C2'+str(RISE)\n",
    "        elif bldgB_widget.value == 'Concrete with URM Infill':\n",
    "            CONSTRUCTION = 'C3'+str(RISE)\n",
    "        elif bldgB_widget.value == 'Precast Concrete Tilt-Up Walls':\n",
    "            CONSTRUCTION = 'PC1'\n",
    "        elif bldgB_widget.value == 'Precast Concrete Frames with Concrete Shear Walls':\n",
    "            CONSTRUCTION = 'PC2'+str(RISE)\n",
    "        elif bldgB_widget.value == 'Reinforced Masonry with Wood/Metal Diaphragm':\n",
    "            CONSTRUCTION = 'RM1'+str(RISE)\n",
    "        elif bldgB_widget.value == 'Reinforced Masonry with Precast Concrete Diaphragm':\n",
    "            CONSTRUCTION = 'RM2'+str(RISE)\n",
    "        else:\n",
    "            CONSTRUCTION = 'NOPE'\n",
    "    print(CONSTRUCTION)\n",
    "\n",
    "# Call the button\n",
    "buttonCons = widgets.Button(description=\"Calculate Building\")\n",
    "buttonCons.on_click(calc_building)\n",
    "display(buttonCons)\n"
   ]
  },
  {
   "cell_type": "markdown",
   "metadata": {},
   "source": [
    "----------\n",
    "\n",
    "Select your occupancy class and number of occupants below. When finished, click 'Calculate Occupancy'."
   ]
  },
  {
   "cell_type": "code",
   "execution_count": 4,
   "metadata": {},
   "outputs": [
    {
     "data": {
      "application/vnd.jupyter.widget-view+json": {
       "model_id": "9ace577eba484679be24d4e6668cdf01",
       "version_major": 2,
       "version_minor": 0
      },
      "text/plain": [
       "interactive(children=(Output(),), _dom_classes=('widget-interact',))"
      ]
     },
     "metadata": {},
     "output_type": "display_data"
    },
    {
     "data": {
      "application/vnd.jupyter.widget-view+json": {
       "model_id": "b9d5f946d7cb4311914699a229fabbe9",
       "version_major": 2,
       "version_minor": 0
      },
      "text/plain": [
       "Button(description='Calculate Occupancy', style=ButtonStyle())"
      ]
     },
     "metadata": {},
     "output_type": "display_data"
    },
    {
     "name": "stdout",
     "output_type": "stream",
     "text": [
      "RES1 0 2 1\n",
      "RES1 0 4 2\n"
     ]
    }
   ],
   "source": [
    "#Creating a dataframe with the possible options\n",
    "dfo = pd.DataFrame([['Single Family','Mobile Home','Multi Family','Temporary Lodging','Institutional Dormitory','Nursing Home'],\n",
    "             ['Retail Trade','Wholesale Trade','Personal & Repair Services','Professional/Technical Services','Banks','Hospital','Medical Office/Clinic','Entertainment & Recreation','Theaters','Parking'],\n",
    "             ['Heavy','Light','Food/Drugs/Chemicals','Metal/Minerals Processing','High Technology','Construction'],\n",
    "             ['Agriculture'],\n",
    "             ['Church/Non Profit'],\n",
    "             ['General Services','Emergency Response'],\n",
    "             ['Grade Schools','Colleges/Universities']], index = ['Residential','Commercial','Industrial','Agriculture','Religion/Non Profit','Government','Education']).transpose()\n",
    "\n",
    "#Define my widgets for this section\n",
    "\n",
    "occA_widget = widgets.Dropdown(options = ['Residential','Commercial','Industrial','Agriculture','Religion/Non Profit','Government','Education'], value='Residential')\n",
    "occB_widget = widgets.Dropdown(options = ['Single Family','Mobile Home','Multi Family','Temporary Lodging','Institutional Dormitory','Nursing Home'])\n",
    "optional_widget = widgets.Dropdown(options = ['Duplex','3-4 Units','5-9 Units','10-19 Units','20-49 Units','50+ Units'], value='Duplex')\n",
    "nightin = widgets.BoundedIntText(description=\"Night\", min=0, max=1000)\n",
    "dayin = widgets.BoundedIntText(description=\"Day\", min=0, max=1000)\n",
    "transin = widgets.BoundedIntText(description=\"Transit\", min=0, max=1000)\n",
    "\n",
    "# Define a function that updates the content of y based on what we select for x\n",
    "def update(*args):\n",
    "    occB_widget.options = dfo[occA_widget.value].dropna().unique().tolist()\n",
    "occA_widget.observe(update)\n",
    "\n",
    "def updateagain(*args):\n",
    "    if occB_widget.value == 'Multi Family':\n",
    "        display(optional_widget)\n",
    "occB_widget.observe(updateagain, names=['value'])\n",
    "\n",
    "# Call the widgets to specify building type\n",
    "@widgets.interact\n",
    "def random_function():\n",
    "    display(occA_widget)\n",
    "    display(occB_widget)\n",
    "    print(\"Occupants:\")\n",
    "    display(nightin)\n",
    "    display(dayin)\n",
    "    display(transin)\n",
    "\n",
    "def calc_occ(wut):\n",
    "    global OCC, DAY, NIGHT, TRANSIT\n",
    "    if occB_widget.value == 'Single Family':\n",
    "        OCC = 'RES1'\n",
    "    elif occB_widget.value == 'Mobile Home':\n",
    "        OCC = 'RES2'\n",
    "    elif occB_widget.value == 'Multi Family':\n",
    "        if optional_widget.value == 'Duplex':\n",
    "            OCC = 'RES3A'\n",
    "        elif optional_widget.value == '3-4 Units':\n",
    "            OCC = 'RES3B'\n",
    "        elif optional_widget.value == '5-9 Units':\n",
    "            OCC = 'RES3C'\n",
    "        elif optional_widget.value == '10-19 Units':\n",
    "            OCC = 'RES3D'\n",
    "        elif optional_widget.value == '20-49 Units':\n",
    "            OCC = 'RES3E'\n",
    "        elif optional_widget.value == '50+ Units':\n",
    "            OCC = 'RES3F'\n",
    "    elif occB_widget.value == 'Temporary Lodging':\n",
    "        OCC = 'RES4'\n",
    "    elif occB_widget.value == 'Institutional Dormitory':\n",
    "        OCC = 'RES5'\n",
    "    elif occB_widget.value == 'Nursing Home':\n",
    "        OCC = 'RES6'\n",
    "    elif occB_widget.value == 'Retail Trade':\n",
    "        OCC = 'COM1'\n",
    "    elif occB_widget.value == 'Wholesale Trade':\n",
    "        OCC = 'COM2'\n",
    "    elif occB_widget.value == 'Personal & Repair Services':\n",
    "        OCC = 'COM3'\n",
    "    elif occB_widget.value == 'Professional/Technical Services':\n",
    "        OCC = 'COM4'\n",
    "    elif occB_widget.value == 'Banks':\n",
    "        OCC = 'COM5'\n",
    "    elif occB_widget.value == 'Hospital':\n",
    "        OCC = 'COM6'\n",
    "    elif occB_widget.value == 'Medical Office/Clinic':\n",
    "        OCC = 'COM7'\n",
    "    elif occB_widget.value == 'Entertainment & Recreation':\n",
    "        OCC = 'COM8'\n",
    "    elif occB_widget.value == 'Theaters':\n",
    "        OCC = 'COM9'\n",
    "    elif occB_widget.value == 'Parking':\n",
    "        OCC = 'COM10'\n",
    "    elif occB_widget.value == 'Heavy':\n",
    "        OCC = 'IND1'\n",
    "    elif occB_widget.value == 'Light':\n",
    "        OCC = 'IND2'\n",
    "    elif occB_widget.value == 'Food/Drugs/Chemicals':\n",
    "        OCC = 'IND3'\n",
    "    elif occB_widget.value == 'Metal/Minerals Processing':\n",
    "        OCC = 'IND4'\n",
    "    elif occB_widget.value == 'High Technology':\n",
    "        OCC = 'IND5'\n",
    "    elif occB_widget.value == 'Construction':\n",
    "        OCC = 'IND6'\n",
    "    else:\n",
    "        OCC = 'NOPE'\n",
    "    NIGHT=nightin.value\n",
    "    DAY=dayin.value\n",
    "    TRANSIT=transin.value\n",
    "    print(OCC, DAY, NIGHT, TRANSIT)\n",
    "        \n",
    "buttonOcc = widgets.Button(description = \"Calculate Occupancy\")\n",
    "buttonOcc.on_click(calc_occ)\n",
    "display(buttonOcc)"
   ]
  },
  {
   "cell_type": "code",
   "execution_count": 5,
   "metadata": {},
   "outputs": [
    {
     "ename": "NameError",
     "evalue": "name 'CONSTRUCTION' is not defined",
     "output_type": "error",
     "traceback": [
      "\u001b[0;31m---------------------------------------------------------------------------\u001b[0m",
      "\u001b[0;31mNameError\u001b[0m                                 Traceback (most recent call last)",
      "\u001b[0;32m<ipython-input-5-d742e4e62656>\u001b[0m in \u001b[0;36m<module>\u001b[0;34m\u001b[0m\n\u001b[0;32m----> 1\u001b[0;31m \u001b[0mprint\u001b[0m\u001b[0;34m(\u001b[0m\u001b[0mCONSTRUCTION\u001b[0m\u001b[0;34m,\u001b[0m\u001b[0mRISE\u001b[0m\u001b[0;34m)\u001b[0m\u001b[0;34m\u001b[0m\u001b[0;34m\u001b[0m\u001b[0m\n\u001b[0m",
      "\u001b[0;31mNameError\u001b[0m: name 'CONSTRUCTION' is not defined"
     ]
    }
   ],
   "source": [
    "print(CONSTRUCTION,RISE)"
   ]
  },
  {
   "cell_type": "markdown",
   "metadata": {},
   "source": [
    "--------\n",
    "-------\n",
    "\n",
    "Use the button below to add this building to your Portfolio. \n",
    "\n",
    "You can add more buildings by changing above parameters and clicking this button to add them. "
   ]
  },
  {
   "cell_type": "code",
   "execution_count": 6,
   "metadata": {},
   "outputs": [
    {
     "data": {
      "application/vnd.jupyter.widget-view+json": {
       "model_id": "9a8d430206184d9cacc2010cc86d4940",
       "version_major": 2,
       "version_minor": 0
      },
      "text/plain": [
       "Button(description='Add Building', style=ButtonStyle())"
      ]
     },
     "metadata": {},
     "output_type": "display_data"
    },
    {
     "name": "stdout",
     "output_type": "stream",
     "text": [
      "id,lon,lat,taxonomy,number,day,night,transit\n",
      "1,-123.0924,49.2609,RES1-W1-HC,1,0,2,1\n",
      "id,lon,lat,taxonomy,number,day,night,transit\n",
      "2,-123.0924,49.2609,RES1-W1-HC,1,0,4,2\n"
     ]
    }
   ],
   "source": [
    "# Build dataframe from code-year chart\n",
    "codetable = pd.DataFrame([['PC','PC','PC','PC','PC'],\n",
    "                         ['MC','MC','LC','PC','PC'],\n",
    "                         ['HC','MC','MC','LC','PC'],\n",
    "                         ['HC','HC','MC','LC','LC']], index=['Pre-1973','1973-1990','1990-2005','2005-present']).transpose()\n",
    "\n",
    "# Initialize CSV file\n",
    "CSV_OUTPUT=\"./exposure.csv\"\n",
    "ID=1; NUM=\"1\"\n",
    "with open(CSV_OUTPUT, 'w', newline='') as outcsv:\n",
    "    writer = csv.writer(outcsv)\n",
    "    writer.writerow([\"id\",\"lon\",\"lat\",\"taxonomy\",\"number\",\"day\",\"night\",\"transit\"])\n",
    "    \n",
    "# Define function to add line to csv\n",
    "def append_list_as_row(file_name, list_of_elem):\n",
    "    # Open file in append mode\n",
    "    with open(file_name, 'a+', newline='') as write_obj:\n",
    "        # Create a writer object from csv module\n",
    "        csv_writer = csv.writer(write_obj)\n",
    "        # Add contents of list as last row in the csv file\n",
    "        csv_writer.writerow(list_of_elem)\n",
    "\n",
    "# Define button to add the line to csv file\n",
    "buttonAdd = widgets.Button(description = \"Add Building\")\n",
    "\n",
    "def evaluate(buttonAdd):\n",
    "    global ID\n",
    "    if RISE == 'L':\n",
    "        SA = 1.4998 #fetch SA(0.2)\n",
    "    \n",
    "        if SA >= 1.500:\n",
    "            CODE = codetable[YRGROUP].iloc[0]\n",
    "        elif 1.000 <= SA < 1.500:\n",
    "            CODE = codetable[YRGROUP].iloc[1]\n",
    "        elif 0.500 <= SA < 1.000:\n",
    "            CODE = codetable[YRGROUP].iloc[2]\n",
    "        elif 0.250 <= SA < 0.500:\n",
    "            CODE = codetable[YRGROUP].iloc[3]\n",
    "        elif SA < 0.250:\n",
    "            CODE = codetable[YRGROUP].iloc[4]\n",
    "    else:\n",
    "        SA = 0.41 #fetch SA(1.0)\n",
    "        if SA >= 0.600:\n",
    "            CODE = codetable[YRGROUP].iloc[0]\n",
    "        elif 0.400 <= SA < 0.600:\n",
    "            CODE = codetable[YRGROUP].iloc[1]\n",
    "        elif 0.200 <= SA < 0.400:\n",
    "            CODE = codetable[YRGROUP].iloc[2]\n",
    "        elif 0.100 <= SA < 0.200:\n",
    "            CODE = codetable[YRGROUP].iloc[3]\n",
    "        elif SA < 0.100:\n",
    "            CODE = codetable[YRGROUP].iloc[4]\n",
    "\n",
    "    if (CODE == 'PC') & (CONSTRUCTION == 'W1') & (YRGROUP != 'Pre-1973'):\n",
    "        CODE = 'LC'\n",
    "\n",
    "    TAXO = str(OCC)+\"-\"+str(CONSTRUCTION)+\"-\"+str(CODE)\n",
    "    print(\"id,lon,lat,taxonomy,number,day,night,transit\")\n",
    "    newline = [str(ID),str(LON),str(LAT),str(TAXO),str(NUM),str(DAY),str(NIGHT),str(TRANSIT)]\n",
    "    print(ID,'%.4f'%LON,'%.4f'%LAT,TAXO,NUM,DAY,NIGHT,TRANSIT,sep=\",\")\n",
    "    \n",
    "    ID = ID + 1\n",
    "    \n",
    "    #Add to CSV\n",
    "    append_list_as_row(CSV_OUTPUT, newline)\n",
    "\n",
    "\n",
    "\n",
    "buttonAdd.on_click(evaluate)\n",
    "display(buttonAdd)\n",
    "\n",
    "\n",
    "\n",
    "\n"
   ]
  },
  {
   "cell_type": "markdown",
   "metadata": {},
   "source": [
    "-----------\n",
    "---------"
   ]
  },
  {
   "cell_type": "code",
   "execution_count": 26,
   "metadata": {},
   "outputs": [],
   "source": [
    "%%bash\n",
    "\n",
    "#Build the rest of the files\n",
    "XML_OUTPUT=\"./exposure.xml\"\n",
    "\n",
    "cat > exposure.xml << EOF\n",
    "<?xml version=\"1.0\" encoding=\"UTF-8\"?>\n",
    "<nrml xmlns=\"http://openquake.org/xmlns/nrml/0.4\">\n",
    "    <exposureModel id=\"ex1\" category=\"buildings\" taxonomySource=\"GEM taxonomy\">\n",
    "        <description></description>\n",
    "        <conversions>\n",
    "            <costTypes>\n",
    "            </costTypes>\n",
    "        </conversions>\n",
    "        <occupancyPeriods>day night transit</occupancyPeriods>\n",
    "        <tagNames></tagNames>\n",
    "    <assets>  \n",
    "        exposure.csv\n",
    "    </assets>\n",
    "    </exposureModel>\n",
    "</nrml>\n",
    "EOF\n",
    "\n",
    "FRAG=\"what_you_need/structural_fragility.xml\"\n",
    "RUPTURE=\"what_you_need/rupture_AFM7p3_GSM.xml\"\n",
    "VS30=450\n",
    "GSIM=\"what_you_need/gmmLT_nbcc2015_activefault.xml\"\n",
    "\n",
    "cat > configDamage.ini << EOF\n",
    "[general]\n",
    "description = Scenario damage calculation - generated by CheckMyHouseTutorial Jupyter Notebook - showing to Joost, Will, Murray, Drew.\n",
    "calculation_mode = scenario_damage\n",
    "random_seed = 113\n",
    "concurrent_tasks = 500\n",
    "\n",
    "[Exposure model]\n",
    "exposure_file = $XML_OUTPUT\n",
    "\n",
    "[site_params]\n",
    "reference_vs30_type = inferred\n",
    "reference_vs30_value = $VS30\n",
    "reference_depth_to_2pt5km_per_sec = 5.0\n",
    "reference_depth_to_1pt0km_per_sec = 100.0\n",
    "\n",
    "[Rupture information]\n",
    "rupture_model_file = $RUPTURE\n",
    "rupture_mesh_spacing = 2\n",
    "\n",
    "[Calculation parameters]\n",
    "gsim_logic_tree_file = $GSIM \n",
    "truncation_level = 3.0\n",
    "maximum_distance = 300.0\n",
    "number_of_ground_motion_fields = 500\n",
    "\n",
    "[fragility]\n",
    "structural_fragility_file = $FRAG\n",
    "\n",
    "[risk_calculation]\n",
    "master_seed = 42 \n",
    "EOF"
   ]
  },
  {
   "cell_type": "code",
   "execution_count": 30,
   "metadata": {},
   "outputs": [
    {
     "data": {
      "application/vnd.jupyter.widget-view+json": {
       "model_id": "69d71f90793d4528aa8c2c72371225b6",
       "version_major": 2,
       "version_minor": 0
      },
      "text/plain": [
       "Button(description='Run Damage Calc', style=ButtonStyle())"
      ]
     },
     "metadata": {},
     "output_type": "display_data"
    },
    {
     "name": "stdout",
     "output_type": "stream",
     "text": [
      "Exported 1.79 KB in ['./dmg_by_asset-rlz-000_246.csv', './dmg_by_asset-rlz-001_246.csv', './dmg_by_asset-rlz-002_246.csv']\n"
     ]
    }
   ],
   "source": [
    "\n",
    "oq=\"/Users/thobbs/openquake/oqenv/bin/oq\"\n",
    "\n",
    "# Define button to add the line to csv file\n",
    "buttonRun = widgets.Button(description = \"Run Damage Calc\")\n",
    "def evaluate(buttonRun):\n",
    "    #%run $oq engine --run configDamage.ini\n",
    "    %run $oq export dmg_by_asset -1\n",
    "    \n",
    "buttonRun.on_click(evaluate)\n",
    "display(buttonRun)\n"
   ]
  },
  {
   "cell_type": "markdown",
   "metadata": {},
   "source": [
    "----------\n",
    "# View Report\n",
    "This report considers the probability of being in each damage state: none, slight, moderate, extensive, and complete. These damage states are described in detail in [this HAZUS Manual appendix](https://www.eeri.org/wp-content/uploads/Appendix-2-HAZUS-Damage-States.pdf). For reference, here it the description for a W1 building:    \n",
    "\n",
    "   * __Slight Damage__: Small plaster or gypsum-board cracks at corners of door and window openings and wall-ceiling intersections; small cracks in masonry chimneys and masonry veneer.    \n",
    "   * __Moderate Damage__: Large plaster or gypsum-board cracks at corners of door and window openings; small diagonal cracks across shear wall panels exhibited by small cracks in stucco and gypsum wall panels; large cracks in brick chimneys; toppling of tall masonry chimneys.     \n",
    "   * __Extensive Damage__: Large diagonal cracks across shear wall panels or large cracks at plywood joints; permanent lateral movement of floors and roof; toppling of most brick chimneys; cracks in foundations; splitting of wood sill plates and/or slippage of structure over foundations; partial collapse of “room-over-garage” or other “soft-story” configurations; small foundations cracks.     \n",
    "   * __Complete Damage__: Structure may have large permanent lateral displacement, may collapse, or be in imminent danger of collapse due to cripple wall failure or the failure of the lateral load resisting system; some structures may slip and fall off the foundations; large foundation cracks. Approximately 3% of the total area of W1 buildings with Complete damage is expected to be collapsed. "
   ]
  },
  {
   "cell_type": "code",
   "execution_count": 44,
   "metadata": {},
   "outputs": [
    {
     "name": "stdout",
     "output_type": "stream",
     "text": [
      "   asset_id    taxonomy       lon      lat  structural~no_damage_mean  \\\n",
      "0         1  RES1-W1-HC -123.0924  49.2609                      0.932   \n",
      "1         2  RES1-W1-HC -123.0924  49.2609                      0.916   \n",
      "\n",
      "   structural~no_damage_stdv  structural~slight_mean  structural~slight_stdv  \\\n",
      "0                   0.251998                   0.068                0.251998   \n",
      "1                   0.277666                   0.078                0.268440   \n",
      "\n",
      "   structural~moderate_mean  structural~moderate_stdv  \\\n",
      "0                     0.000                  0.000000   \n",
      "1                     0.006                  0.077304   \n",
      "\n",
      "   structural~extensive_mean  structural~extensive_stdv  \\\n",
      "0                        0.0                        0.0   \n",
      "1                        0.0                        0.0   \n",
      "\n",
      "   structural~complete_mean  structural~complete_stdv  \n",
      "0                       0.0                       0.0  \n",
      "1                       0.0                       0.0  \n",
      "0 0.932\n",
      "1 0.916\n"
     ]
    },
    {
     "data": {
      "image/png": "[encoded data removed]",
      "text/plain": [
       "<matplotlib.figure.Figure at 0x1328b82e8>"
      ]
     },
     "metadata": {},
     "output_type": "display_data"
    }
   ],
   "source": [
    "import numpy as np \n",
    "import matplotlib.pyplot as plt\n",
    "import pandas as pd\n",
    "import glob\n",
    "\n",
    "# Identify our selected output\n",
    "fileName = \"dmg_by_asset-rlz-001_???.csv\"\n",
    "file = glob.glob(fileName)\n",
    "\n",
    "# Import it\n",
    "data = pd.read_csv(str(file[0]))\n",
    "dmg=data.iloc[0]['structural~no_damage_mean'],data.iloc[0]['structural~slight_mean'],data.iloc[0]['structural~moderate_mean'],data.iloc[0]['structural~extensive_mean'],data.iloc[0]['structural~complete_mean']\n",
    "labels='None','Slight','Moderate','Extensive','Complete'\n",
    "\n",
    "# iterate over rows with iterrows()\n",
    "for index, row in data.iterrows():\n",
    "    # access data using column names\n",
    "    #print(index, row['delay'], row['distance'], row['origin'])\n",
    "    # Find most likely damage state and emphasize it\n",
    "    print(index, row['asset_id'],row['taxonomy'],row['lat'],row['lon'],row['structural~no_damage_mean'],row['structural~slight_mean'],row['structural~moderate_mean'],row['structural~extensive_mean'],row['structural~complete_mean'])\n",
    "    print(max(row['structural~no_damage_mean'],row['structural~slight_mean'],row['structural~moderate_mean'],row['structural~extensive_mean'],row['structural~complete_mean']))\n",
    "    #print(\"You house has a \"+str(100*dmg[mostLikely])+\"% chance of being in Damage State \"+str(labels[mostLikely]))\n",
    "\n",
    "#data['MostLikelyState'] =  str(labels[mostLikely])\n",
    "#data['PercentState'] = str(100*dmg[mostLikely])\n",
    "#print(data)\n",
    "mostLikely=dmg.index(max(dmg))\n",
    "\n",
    "# Make a bar chart\n",
    "#for gsim,table,p,dist in zip(gsim_cgs,refval,pdiff,dctx.rrup):\n",
    "#    print(dist,np.round(gsim,4),np.round(table,4),np.round(p,1))\n",
    "\n",
    "# Make a pie chart\n",
    "#fig1, ax1 = plt.subplots()\n",
    "#ax1.pie(dmg, labels=labels, explode=explo2, autopct='%1.1f%%', startangle=-70)\n",
    "#ax1.axis('equal')  # Equal aspect ratio ensures that pie is drawn as a circle.\n",
    "#plt.show()\n",
    "\n",
    "# Make a donut chart\n",
    "fig, ax = plt.subplots(figsize=(7, 3), subplot_kw=dict(aspect=\"equal\"))\n",
    "wedges, texts = ax.pie(dmg, wedgeprops=dict(width=0.5), startangle=-70)\n",
    "bbox_props = dict(boxstyle=\"square,pad=0.3\", fc=\"w\", ec=\"k\", lw=0.72)\n",
    "kw = dict(arrowprops=dict(arrowstyle=\"-\"),\n",
    "          bbox=bbox_props, zorder=0, va=\"center\")\n",
    "for i, p in enumerate(wedges):\n",
    "    ang = (p.theta2 - p.theta1)/2. + p.theta1\n",
    "    y = np.sin(np.deg2rad(ang))\n",
    "    x = np.cos(np.deg2rad(ang))\n",
    "    horizontalalignment = {-1: \"right\", 1: \"left\"}[int(np.sign(x))]\n",
    "    connectionstyle = \"angle,angleA=0,angleB={}\".format(ang)\n",
    "    kw[\"arrowprops\"].update({\"connectionstyle\": connectionstyle})\n",
    "    ax.annotate(labels[i], xy=(x, y), xytext=(1.35*np.sign(x), 1.4*y),\n",
    "                horizontalalignment=horizontalalignment, **kw)\n",
    "ax.set_title(\"Probability of Different Damage States\")\n",
    "plt.show()\n",
    "\n"
   ]
  },
  {
   "cell_type": "markdown",
   "metadata": {},
   "source": [
    "Be sure to close the figure window before trying to re-run this calculation. "
   ]
  },
  {
   "cell_type": "markdown",
   "metadata": {},
   "source": [
    "----------\n",
    "## The End\n",
    "\n",
    "Hopefully you've succesfully made it through, and have determined the probability of different damage states for your home in this scenario earthquake. You have also started thinking about the other datasets and models that are required for running OpenQuake, and experimented with plotting. Go celebrate your hard work!\n",
    "\n",
    "![alt text](https://media.giphy.com/media/f9RzoxHizH72k15FKS/giphy.gif \"Even Paul Rudd is proud of you!\")"
   ]
  }
 ],
 "metadata": {
  "kernelspec": {
   "display_name": "Python 3",
   "language": "python",
   "name": "python3"
  },
  "language_info": {
   "codemirror_mode": {
    "name": "ipython",
    "version": 3
   },
   "file_extension": ".py",
   "mimetype": "text/x-python",
   "name": "python",
   "nbconvert_exporter": "python",
   "pygments_lexer": "ipython3",
   "version": "3.6.8"
  }
 },
 "nbformat": 4,
 "nbformat_minor": 4
}
