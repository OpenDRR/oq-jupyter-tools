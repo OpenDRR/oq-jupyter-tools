{
 "cells": [
  {
   "cell_type": "markdown",
   "metadata": {},
   "source": [
    "Check My House\n",
    "=====================\n",
    "\n",
    "An Interactive Tutorial Using OpenQuake (OQ). Written by Tiegan Hobbs ([tieganh](https://github.com/tieganh)) on 11 May 2020 for bash. This document is intended for demonstration purposes, and licensed under a [Creative Commons Attribution-ShareAlike 4.0 International License](https://creativecommons.org/licenses/by-sa/4.0/). \n",
    "![alt text](https://i.creativecommons.org/l/by-sa/4.0/80x15.png \"CC BY-SA 4.0\")\n",
    "\n",
    "**Learning Objective**: The goal of this tutorial is to help a new user understand how OpenQuake works, by using it to calculate the probability of damage to their house from a scenario earthquake. You will practice building an exposure file for your house, and learn what other files are required to run a calculation in OQ. Just follow along and be sure to hit 'run' on each code snippet, unless stated otherwise. \n",
    "\n",
    "------------\n",
    "\n",
    "## Table of Contents\n",
    "\n",
    "1. [Introduction](#Introduction)\n",
    "2. [Getting Your System Ready](#Getting-Your-System-Ready)\n",
    "     * [Checking Your Installation](#Checking-Your-Installation)\n",
    "     * [Initializing OQ Web](#Initializing-OQ-Web)\n",
    "3. [Building Input Files](#Building-Input-Files)\n",
    "     * [Exposure Files](#Exposure-Files)\n",
    "     * [Building An Earthquake Rupture](#Building-An-Earthquake-Rupture)\n",
    "     * [Picking Soil Conditions](#Picking-Soil-Conditions)\n",
    "     * [Ground Motion Prediction Equations](#Ground-Motion-Prediction-Equations)\n",
    "     * [Fragility Functions](#Fragility-Functions)\n",
    "4. [Scenario Damage](#Scenario-Damage)\n",
    "     * [Build the Configuration/Initialization File](#Build-the-Configuration/Initialization-File)\n",
    "     * [Running Scenario Damage Calculator](#Running-Scenario-Damage-Calculator)\n",
    "     * [Exporting the Output](#Exporting-the-Output)\n",
    "5. [Visualizing Outputs](#Visualizing-Outputs)\n",
    "6. [The End](#The-End)\n"
   ]
  },
  {
   "cell_type": "markdown",
   "metadata": {},
   "source": [
    "------------\n",
    "\n",
    "## Introduction\n",
    "\n",
    "Developed by the Global Earthquake Model (GEM) Foundation [Pinho, 2012, Crowley et al., 2013], OQ is a free, open-source, community-developed code to assess seismic hazard and risk globally [see Monelli et al., 2012, Pagani et al., 2014, Silva et al., 2014]. Natural Resources Canada has been a proud public partner of GEM since 2017.\n",
    "\n",
    "Basically, OpenQuake allows you to find out how an earthquake (or catalogue of earthquakes) would impact buildings and people. For this exercise, we'll simplify it down to a single earthquake and a single building of interest: your house! \n",
    "\n",
    "![alt text](https://media.giphy.com/media/h2kaUZAxx7y9uYPJfS/giphy.gif \"We need to be prepared.\")\n",
    "\n",
    "To run this calculation, we will need to feed OQ some information about:\n",
    "* **The Earthquake**    \n",
    "    Where is it? How strong is it? We'll call this the _rupture_. Because earthquakes shaking is stronger near the epicenter, we also need to consider how strongly the quake will be felt at your house. This is based on properties of the earth's crust, and will be described by Ground Motion Prediction Equations or _GMPE's_ that relate the size of an earthquake to the shaking you would feel, depending on your soil conditions. The intensity of shaking is referred to as the _seismic hazard_.\n",
    "    \n",
    "\n",
    "* **People & Places**     \n",
    "    How many people may be in harm's way? Which buildings? We'll describe the occupants and the specifics of the building in what's called an _exposure_ file.     \n",
    "    \n",
    "\n",
    "* **Their Susceptibility**    \n",
    "    Is my house strong enough to withstand the shaking? How was it constructed? We'll describe the strength of the buildings in terms of their fragility and vulnerability. _Fragility_ is the relationship between how much the building is shaken and the likelihood of being in different states of damage. _Vulnerability_ is the relationship between shaking and the expected loss, expressed in dollars. We'll come back to this one in a future tutorial.\n",
    "    \n",
    "\n",
    "![alt text](https://i.imgur.com/ASQmEVV.png \"A schematic showing the relationship between an earthquake, the exposed assets, and the ground motion prediction equations.\")\n",
    "\n",
    "\n",
    "If we know all of those things, then we can use OpenQuake to calculate the probability of your home being in a certain damage state after the scenario earthquake. We will also talk a little bit about visualizing the outputs, using QGIS or matplotlib. These are fundamental skills for data scientists, engineers, and policy analysts. "
   ]
  },
  {
   "cell_type": "markdown",
   "metadata": {},
   "source": [
    "----------\n",
    "---------\n",
    "\n",
    "## Getting Your System Ready\n",
    "### Checking Your Installation\n",
    "To run this tutorial you will need to have OQ installed. Test it by running the code below to ensure you get a recent version (ex: '3.9.0-gitdcd091b') rather than an error."
   ]
  },
  {
   "cell_type": "code",
   "execution_count": 1,
   "metadata": {},
   "outputs": [
    {
     "name": "stdout",
     "output_type": "stream",
     "text": [
      "here:  /Users/thobbs/openquake/src/oq-engine/openquake/hazardlib/gsim/NBCC2020_tables/BC17/BC17_2k_V2.hdf5\n",
      "3.9.0-gitdcd091b\n"
     ]
    }
   ],
   "source": [
    "oq --version"
   ]
  },
  {
   "cell_type": "markdown",
   "metadata": {},
   "source": [
    "*If you got an error, check that you have [installed OQ](https://github.com/gem/oq-engine/blob/master/doc/installing/development.md) and that you have activated the environment that you setup for OQ. The latter is likely achieved like so:*  \n",
    "`source ~/.profile`\n",
    "\n",
    "### Initializing OQ Web\n",
    "Everything goes more smoothly with the OQ Web User Interface (webui) running. If you haven't already got this running, then open a terminal window and type:\n",
    "\n",
    "`oq webui start`\n",
    "\n",
    "It will print some initialization text, and then keep printing run text as long as it's open. You can minimize this window. As I like to say, you're now ready to party. \n",
    "![alt text](https://media.giphy.com/media/rumR5iFBxFjdC/giphy.gif \"Kristin Wiig knows what's good.\")\n",
    "\n",
    "----------\n",
    "-----------\n",
    "\n",
    "## Building Input Files\n",
    "### Exposure Files\n",
    "\n",
    "You're going to determine the latitude and longitude of your house using [Google Earth Web](https://earth.google.com/web/). \n",
    "1. Once it loads (in another tab) click the three horizontal lines at the top left corner to open the control panel on the left. Select 'Setting' and change the units of latitude and longitude to 'Decimal Degrees'. Select 'Save' on the bottom of the Settings Window to apply your change. \n",
    "2. Click the magnifying glass in the top left, and enter your address. It will fly you to your house. \n",
    "3. Hover your mouse over your house. The latitude and longitude are displayed in the bottom right corner of the window. **Note:** Northern and Eastern hemispheres are positive. So Canada has positive latitude and negative longitude as we are in the North and West Hemispheres. \n",
    "\n",
    "Record them below using the specified format. You can also include the name of your municipality."
   ]
  },
  {
   "cell_type": "code",
   "execution_count": 3,
   "metadata": {},
   "outputs": [
    {
     "name": "stdout",
     "output_type": "stream",
     "text": [
      "49.2609 -123.0926 Vancouver\n"
     ]
    }
   ],
   "source": [
    "LAT=\"49.2609\"\n",
    "LON=\"-123.0926\"\n",
    "MUNI=\"Vancouver\"\n",
    "echo $LAT $LON $MUNI"
   ]
  },
  {
   "cell_type": "markdown",
   "metadata": {},
   "source": [
    "\n",
    "You will also need some information about the building you live in, in terms of its [construction type](https://www.eeri.org/wp-content/uploads/Appendix-1-HAZUS-Building-Types.pdf) and occupancy class. The taxonomies used in OQ are based on the United States [Federal Emergency Management Agency](www.fema.gov) software HAZUS. You can download the full Technical Manual [here](https://www.fema.gov/media-library-data/20130726-1820-25045-1705/hzmh2_1_aebm_um.pdf). Tables 3.1 and 3.2 therein describe the construction and occupancy types, respectively.\n",
    "\n",
    "Once you've decided on your building type, fill it in here:"
   ]
  },
  {
   "cell_type": "code",
   "execution_count": 2,
   "metadata": {},
   "outputs": [
    {
     "name": "stdout",
     "output_type": "stream",
     "text": [
      "W1 RES1\n"
     ]
    }
   ],
   "source": [
    "CONST=\"W1\"\n",
    "OCC=\"RES1\"\n",
    "echo $CONST $OCC"
   ]
  },
  {
   "cell_type": "markdown",
   "metadata": {},
   "source": [
    "You'll also need to specify the number of people who reside in your structure. That's the 'nighttime' population. Based on the number of people who work outside of the home, you will then specify a 'daytime' population as well as a 'transit' population. The latter refers to the number who would be at home during transit hours, and is usually somewhere between daytime and nighttime population. If you don't know exactly, just do your best. "
   ]
  },
  {
   "cell_type": "code",
   "execution_count": 4,
   "metadata": {},
   "outputs": [
    {
     "name": "stdout",
     "output_type": "stream",
     "text": [
      "3 6 5\n"
     ]
    }
   ],
   "source": [
    "NIGHT=\"6\"\n",
    "DAY=\"3\"\n",
    "TRANSIT=\"5\"\n",
    "echo $DAY $NIGHT $TRANSIT"
   ]
  },
  {
   "cell_type": "markdown",
   "metadata": {},
   "source": [
    "Finally, you'll need to decide on your seismic code level. This depends on the year that your structure was built (or retrofitted) as well as the design level at your site. The latter depends on your seismic hazard, which is expressed in terms of the Spectral Acceleration (SA) with a 2% in 50 year probability of exceedance, for long (Sl) and short (Ss) periods. You can find out the seismic hazard for your location with the [Earthquakes Canada Seismic Hazard Calculator](https://earthquakescanada.nrcan.gc.ca/hazard-alea/interpolat/calc-en.php). \n",
    "\n",
    "1. Enter your latitude and longitude, leaving all other fields at default. Hit 'Submit'.\n",
    "2. In the 2% in 50 year chart (top result), under a distance of 0 km, find your Sa(0.2) and Sa(1.0). \n",
    "3. Use those values with the chart below, as well as the year of construction/retrofit, to determine your code level.\n",
    "\n",
    "\t\t\t\t\t\n",
    "|UBC Seismic Zone (NEHRP Map Area)|Sa0.2|Sa1.0|2005-present|1990-2005|1973-1990|Pre-1973|\n",
    "|:--------------------------------|:----|:----|:-----------|:--------|:--------|:-------|\n",
    "|Zone 4 (Map Area 7)|SS > 1.500g|S1 > 0.600g|High-Code|High-Code|Moderate-Code|Pre-Code|\n",
    "|Zone 3 (Map Area 6)|1.000g < SS < 1.500g|0.400g < S1 < 0.600g|High-Code|Moderate-Code|Moderate-Code|Pre-Code|\t\t\n",
    "|Zone 2(Map Area 4/5)|0.500g < SS < 1.000g|0.200g < S1 < 0.400g|Moderate-Code|Moderate-Code|Low-Code|Pre-Code|\t\t\n",
    "|Zone 1 (Map Area 2/3)|0.250g < SS < 0.500g|0.100g < S1 < 0.200g|Low-Code|Low-Code|Pre-Code (W1=Low)|Pre-Code|\n",
    "|Zone 0 (Map Area 1)|SS < 0.250g |S1 < 0.100g |Low-Code |Pre-Code (W1=Low)|Pre-Code (W1=Low)|Pre-Code|\n",
    "\n",
    "4. Specify your code level in the prompt below, using acronyms.    \n",
    "    HC = High-Code    \n",
    "    MC = Mid-Code   \n",
    "    LC = Low-Code    \n",
    "    PC = Pre-Code"
   ]
  },
  {
   "cell_type": "code",
   "execution_count": 5,
   "metadata": {},
   "outputs": [
    {
     "name": "stdout",
     "output_type": "stream",
     "text": [
      "LC\n"
     ]
    }
   ],
   "source": [
    "CODE=\"LC\"\n",
    "echo $CODE"
   ]
  },
  {
   "cell_type": "markdown",
   "metadata": {},
   "source": [
    "Now you can combine the features of your building into a csv exposure file. The code below is just printing all the information we've input so far into a new csv file called `exposure.csv`, formatted correctly for OQ. You can change the name or location in the first line under `FILE_OUTPUT`. Note that it will replace any pre-existing file with the same name in this location."
   ]
  },
  {
   "cell_type": "code",
   "execution_count": 6,
   "metadata": {},
   "outputs": [
    {
     "name": "stdout",
     "output_type": "stream",
     "text": [
      "id,lon,lat,taxonomy,number,day,night,transit,csdname\n",
      "1,-123.0926,49.2609,RES1-W1-LC,1,3,6,5,Vancouver\n"
     ]
    }
   ],
   "source": [
    "CSV_OUTPUT=\"./exposure.csv\"\n",
    "\n",
    "TAXO=`echo $OCC $CONST $CODE | awk 'BEGIN {OFS=\"-\"} {print $1,$2,$3}'`\n",
    "ID=\"1\"; NUM=\"1\"\n",
    "echo \"id,lon,lat,taxonomy,number,day,night,transit,csdname\"\n",
    "echo $ID $LON $LAT $TAXO $NUM $DAY $NIGHT $TRANSIT $MUNI | awk 'BEGIN {OFS=\",\"} {print $1,$2,$3,$4,$5,$6,$7,$8,$9}'\n",
    "echo \"id,lon,lat,taxonomy,number,day,night,transit,csdname\" > ${CSV_OUTPUT}\n",
    "echo $ID $LON $LAT $TAXO $NUM $DAY $NIGHT $TRANSIT $MUNI | awk 'BEGIN {OFS=\",\"} {print $1,$2,$3,$4,$5,$6,$7,$8,$9}' >> ${CSV_OUTPUT}"
   ]
  },
  {
   "cell_type": "markdown",
   "metadata": {},
   "source": [
    "*Note that if you wanted to add extra buildings to your code then you could update the location, construction, occupant, and code-level variables in the appropriate snippets and run the following command to append your output csv file:*"
   ]
  },
  {
   "cell_type": "code",
   "execution_count": 7,
   "metadata": {},
   "outputs": [
    {
     "name": "stdout",
     "output_type": "stream",
     "text": [
      "2,-123.0926,49.2609,RES1-W1-LC,1,3,6,5,Vancouver\n"
     ]
    }
   ],
   "source": [
    "BONUSNUM=\"1\" #Increase this by 1 each time you add a new line\n",
    "TAXO=`echo $OCC $CONST $CODE | awk 'BEGIN {OFS=\"-\"} {print $1,$2,$3}'`\n",
    "echo $ID $LON $LAT $TAXO $NUM $DAY $NIGHT $TRANSIT $MUNI $BONUSNUM | awk 'BEGIN {OFS=\",\"} {print ($1+$10),$2,$3,$4,$5,$6,$7,$8,$9}'\n",
    "echo $ID $LON $LAT $TAXO $NUM $DAY $NIGHT $TRANSIT $MUNI $BONUSNUM | awk 'BEGIN {OFS=\",\"} {print ($1+$10),$2,$3,$4,$5,$6,$7,$8,$9}' >> ${CSV_OUTPUT}"
   ]
  },
  {
   "cell_type": "markdown",
   "metadata": {},
   "source": [
    "Now we will build the xml wrapper for our exposure file."
   ]
  },
  {
   "cell_type": "code",
   "execution_count": 8,
   "metadata": {},
   "outputs": [],
   "source": [
    "XML_OUTPUT=\"./exposure.xml\"\n",
    "\n",
    "cat > exposure.xml << EOF\n",
    "<?xml version=\"1.0\" encoding=\"UTF-8\"?>\n",
    "<nrml xmlns=\"http://openquake.org/xmlns/nrml/0.4\">\n",
    "    <exposureModel id=\"ex1\" category=\"buildings\" taxonomySource=\"GEM taxonomy\">\n",
    "        <description></description>\n",
    "        <conversions>\n",
    "            <costTypes>\n",
    "            </costTypes>\n",
    "        </conversions>\n",
    "        <occupancyPeriods>day night transit</occupancyPeriods>\n",
    "        <tagNames>csdname</tagNames>\n",
    "    <assets>  \n",
    "        exposure.csv\n",
    "    </assets>\n",
    "    </exposureModel>\n",
    "</nrml>\n",
    "EOF"
   ]
  },
  {
   "cell_type": "markdown",
   "metadata": {},
   "source": [
    "----------------------------\n",
    "### Building An Earthquake Rupture\n",
    "\n",
    "Now we need an earthquake to shake the house with. In a future version, this tutorial can be used to build your own rupture. For now, we'll just call to the pre-existing Georgia Strait M7.3 scenario. It's included in the `what_you_need/` directory that accompanies this tutorial. "
   ]
  },
  {
   "cell_type": "code",
   "execution_count": 9,
   "metadata": {},
   "outputs": [],
   "source": [
    "RUPTURE=\"what_you_need/rupture_AFM7p3_GSM.xml\""
   ]
  },
  {
   "cell_type": "markdown",
   "metadata": {},
   "source": [
    "-------------\n",
    "\n",
    "### Picking Soil Conditions\n",
    "Likewise, a future version of this tutorial will allow you to resample the National database files of site conditions (ex: `vs30_BC_site_model.csv`) to obtain a realistic estimate for your house. In the meantime, we'll use a value of 450 m/s to approximate stiff soil or loose rock (Site Class C).\n",
    "\n",
    "|Site Class|Profile Name|Vs30 (m/s)|\n",
    "|:--------:|:-----------|:---------|\n",
    "|A|Hard rock|Vs30 > 1500|\n",
    "|B|Rock|760 < Vs30 ≤ 1500|\n",
    "|C|Very dense soil and soft rock|360 < Vs30 ≤ 760|\n",
    "|D|Stiff soil|180 < Vs30 ≤ 360|\n",
    "|E|Soft soil|Vs30 < 180|\n",
    "\n",
    "Above summary table is taken from the [National Building Code of Canada 2015](https://nrc.canada.ca/en/certifications-evaluations-standards/codes-canada/codes-canada-publications/national-building-code-canada-2015)."
   ]
  },
  {
   "cell_type": "code",
   "execution_count": 10,
   "metadata": {},
   "outputs": [],
   "source": [
    "VS30=450"
   ]
  },
  {
   "cell_type": "markdown",
   "metadata": {},
   "source": [
    "--------------\n",
    "### Ground Motion Prediction Equations\n",
    "\n",
    "We combine the pertinent Ground Motion Prediction Equations (GMPE's) into Ground Shaking Intensity Models (GSIM's) using a logic tree structure. This is helpful when we have multiple GMPE's, possibly with different relative weighting. In this case, we will use the GSIM logic tree invoked by the 5th Generation National Seismic Hazard Map of Canada [see Atkinson and Adams, 2013, Halchuk et al., 2014, Adams et al., 2015, Allen et al., 2017, Adams and Halchuk, 2019]. It's supplied in the `what_you_need` folder."
   ]
  },
  {
   "cell_type": "code",
   "execution_count": 11,
   "metadata": {},
   "outputs": [],
   "source": [
    "GSIM=\"what_you_need/gmmLT_nbcc2015_activefault.xml\""
   ]
  },
  {
   "cell_type": "markdown",
   "metadata": {},
   "source": [
    "This GSIM has 3 GMPE's, representing the mean, upper, and lower limits on the shaking intensity. The GSIM's are developed for each tectonic environment, which we recognize with an acronym for naming:\n",
    "\n",
    "|Region|Acronym|Tectonic Environment|\n",
    "|:-----|:-----:|:-------------------|\n",
    "|East|SC|Stable Crust|\n",
    "|West|AC|Active Crust|\n",
    "||AF|Active Fault|\n",
    "||IS|Intraslab Shallow (30km)|\n",
    "||ID|Intraslab Deep (55km)|\n",
    "||SI|Subduction Interface|\n",
    "|Either|SM|USGS Shakemap|\n",
    "\n",
    "Because we're using a shallow event in the Georgia Strait near Vancouver, BC, we would use either Active Crust or Active Fault. The epicenter of our scenario event, however, is colocated on a fault that is known to have experienced seismicity in the last decades. Therefore, we've chosen Active Fault. "
   ]
  },
  {
   "cell_type": "markdown",
   "metadata": {},
   "source": [
    "------------\n",
    "### Fragility Functions\n",
    "\n",
    "For this exercise, we use a structural fragility file created by GEM, which relates the amount of shaking to the anticipated damage state of the building. These functions are based on HAZUS, and are undergoing updates to reflect Canadian building practices. The file is supplied for you in the `what_you_need` folder.\n",
    "\n",
    "![alt text](http://www.st-risk.com/FragilityCurves.jpg \"Fragility curves showing cumulative probability of damage versus spectral displacement\")"
   ]
  },
  {
   "cell_type": "code",
   "execution_count": 12,
   "metadata": {},
   "outputs": [],
   "source": [
    "FRAG=\"what_you_need/structural_fragility.xml\""
   ]
  },
  {
   "cell_type": "markdown",
   "metadata": {},
   "source": [
    "-----------------------------\n",
    "-----------------------------\n",
    "## Scenario Damage\n",
    "\n",
    "### Build the Configuration/Initialization File\n",
    "\n",
    "The snippet below will build your configuration file. You can see that it has a comment at the top that allows you to leave yourself a note about what was involved in this run. Below, you will specify the exposure model we just built. \n",
    "\n",
    "Next we'll specify the soil/site parameters, the reference to the earthquake scenario rupture we built, the ground shaking intensity model (GSIM), and the fragility function. \n",
    "\n",
    "Don't worry too much for now about the rest of the values. You're welcome to play around with these parameters, or just hit 'run' to build the default file."
   ]
  },
  {
   "cell_type": "code",
   "execution_count": 13,
   "metadata": {},
   "outputs": [],
   "source": [
    "cat > configDamage.ini << EOF\n",
    "[general]\n",
    "description = Scenario damage calculation - generated by CheckMyHouseTutorial Jupyter Notebook - showing to Joost, Will, Murray, Drew.\n",
    "calculation_mode = scenario_damage\n",
    "random_seed = 113\n",
    "\n",
    "[Exposure model]\n",
    "exposure_file = $XML_OUTPUT\n",
    "\n",
    "[site_params]\n",
    "reference_vs30_type = inferred\n",
    "reference_vs30_value = $VS30\n",
    "reference_depth_to_2pt5km_per_sec = 5.0\n",
    "reference_depth_to_1pt0km_per_sec = 100.0\n",
    "\n",
    "[Rupture information]\n",
    "rupture_model_file = $RUPTURE\n",
    "rupture_mesh_spacing = 2\n",
    "\n",
    "[Calculation parameters]\n",
    "gsim_logic_tree_file = $GSIM \n",
    "truncation_level = 3.0\n",
    "maximum_distance = 300.0\n",
    "number_of_ground_motion_fields = 500\n",
    "\n",
    "[fragility]\n",
    "structural_fragility_file = $FRAG\n",
    "\n",
    "[risk_calculation]\n",
    "master_seed = 42 \n",
    "EOF"
   ]
  },
  {
   "cell_type": "markdown",
   "metadata": {},
   "source": [
    "----------\n",
    "### Running Scenario Damage Calculator\n",
    "\n",
    "Now you're ready to run it! The command below will ask OQ to process our configuration file, which calls to all the other files we've talked about. \n",
    "\n",
    "And how about a soundtrack for while it runs?\n",
    "\n",
    "<a href=\"http://www.youtube.com/watch?feature=player_embedded&v=j6ZsqBqkQ-0&t=11\" target=\"_blank\"><img src=\"http://img.youtube.com/vi/j6ZsqBqkQ-0/0.jpg\" \n",
    "alt=\"Sante Les Amis - Brazil\" width=\"600\" border=\"10\" /></a>"
   ]
  },
  {
   "cell_type": "code",
   "execution_count": 30,
   "metadata": {
    "scrolled": false
   },
   "outputs": [
    {
     "name": "stdout",
     "output_type": "stream",
     "text": [
      "here:  /Users/thobbs/openquake/src/oq-engine/openquake/hazardlib/gsim/NBCC2020_tables/BC17/BC17_2k_V2.hdf5\n",
      "[2020-05-13 17:44:02 #242 INFO] thobbs running /Users/thobbs/Documents/TUTORIALS/configDamage.ini [--hc=None]\n",
      "[2020-05-13 17:44:02 #242 INFO] Using engine version 3.9.0-gitdcd091b\n",
      "[2020-05-13 17:44:03 #242 WARNING] An error occurred while calling https://api.openquake.org/engine/latest to check if the installed version of the engine is up to date.\n",
      "Traceback (most recent call last):\n",
      "  File \"/Library/Frameworks/Python.framework/Versions/3.6/lib/python3.6/urllib/request.py\", line 1318, in do_open\n",
      "    encode_chunked=req.has_header('Transfer-encoding'))\n",
      "  File \"/Library/Frameworks/Python.framework/Versions/3.6/lib/python3.6/http/client.py\", line 1239, in request\n",
      "    self._send_request(method, url, body, headers, encode_chunked)\n",
      "  File \"/Library/Frameworks/Python.framework/Versions/3.6/lib/python3.6/http/client.py\", line 1285, in _send_request\n",
      "    self.endheaders(body, encode_chunked=encode_chunked)\n",
      "  File \"/Library/Frameworks/Python.framework/Versions/3.6/lib/python3.6/http/client.py\", line 1234, in endheaders\n",
      "    self._send_output(message_body, encode_chunked=encode_chunked)\n",
      "  File \"/Library/Frameworks/Python.framework/Versions/3.6/lib/python3.6/http/client.py\", line 1026, in _send_output\n",
      "    self.send(msg)\n",
      "  File \"/Library/Frameworks/Python.framework/Versions/3.6/lib/python3.6/http/client.py\", line 964, in send\n",
      "    self.connect()\n",
      "  File \"/Library/Frameworks/Python.framework/Versions/3.6/lib/python3.6/http/client.py\", line 1400, in connect\n",
      "    server_hostname=server_hostname)\n",
      "  File \"/Library/Frameworks/Python.framework/Versions/3.6/lib/python3.6/ssl.py\", line 407, in wrap_socket\n",
      "    _context=self, _session=session)\n",
      "  File \"/Library/Frameworks/Python.framework/Versions/3.6/lib/python3.6/ssl.py\", line 817, in __init__\n",
      "    self.do_handshake()\n",
      "  File \"/Library/Frameworks/Python.framework/Versions/3.6/lib/python3.6/ssl.py\", line 1077, in do_handshake\n",
      "    self._sslobj.do_handshake()\n",
      "  File \"/Library/Frameworks/Python.framework/Versions/3.6/lib/python3.6/ssl.py\", line 689, in do_handshake\n",
      "    self._sslobj.do_handshake()\n",
      "ssl.SSLError: [SSL: CERTIFICATE_VERIFY_FAILED] certificate verify failed (_ssl.c:852)\n",
      "\n",
      "During handling of the above exception, another exception occurred:\n",
      "\n",
      "Traceback (most recent call last):\n",
      "  File \"/Users/thobbs/openquake/src/oq-engine/openquake/engine/engine.py\", line 410, in check_obsolete_version\n",
      "    data = urlopen(req, timeout=1).read()  # bytes\n",
      "  File \"/Library/Frameworks/Python.framework/Versions/3.6/lib/python3.6/urllib/request.py\", line 223, in urlopen\n",
      "    return opener.open(url, data, timeout)\n",
      "  File \"/Library/Frameworks/Python.framework/Versions/3.6/lib/python3.6/urllib/request.py\", line 526, in open\n",
      "    response = self._open(req, data)\n",
      "  File \"/Library/Frameworks/Python.framework/Versions/3.6/lib/python3.6/urllib/request.py\", line 544, in _open\n",
      "    '_open', req)\n",
      "  File \"/Library/Frameworks/Python.framework/Versions/3.6/lib/python3.6/urllib/request.py\", line 504, in _call_chain\n",
      "    result = func(*args)\n",
      "  File \"/Library/Frameworks/Python.framework/Versions/3.6/lib/python3.6/urllib/request.py\", line 1361, in https_open\n",
      "    context=self._context, check_hostname=self._check_hostname)\n",
      "  File \"/Library/Frameworks/Python.framework/Versions/3.6/lib/python3.6/urllib/request.py\", line 1320, in do_open\n",
      "    raise URLError(err)\n",
      "urllib.error.URLError: <urlopen error [SSL: CERTIFICATE_VERIFY_FAILED] certificate verify failed (_ssl.c:852)>\n",
      "[2020-05-13 17:44:03 #242 WARNING] Using 16 cores on L-VAN-AC02ZW7L4MD6N.local\n",
      "[2020-05-13 17:44:03 #242 INFO] Checksum of the input files: 3697359814\n",
      "[2020-05-13 17:44:03 #242 INFO] Reading the risk model if present\n",
      "[2020-05-13 17:44:05 #242 INFO] Reading /Users/thobbs/Documents/TUTORIALS/exposure.xml\n",
      "[2020-05-13 17:44:05 #242 INFO] Read 1 sites and 2 assets from the exposure\n",
      "[2020-05-13 17:44:05 #242 INFO] Reducing risk model from 4224 to 1 taxonomies\n",
      "[2020-05-13 17:44:05 #242 INFO] Storing exposed_values/agg\n",
      "[2020-05-13 17:44:05 #242 INFO] gzipping the input files\n",
      "[2020-05-13 17:44:05 #242 INFO] There are 3 realization(s)\n",
      "[2020-05-13 17:44:05 #242 INFO] Building risk inputs from 3 realization(s)\n",
      "[2020-05-13 17:44:05 #242 INFO] Built 1 risk inputs\n",
      "[2020-05-13 17:44:06 #242 INFO] scenario_damage 0 B sent, 1 submitted, 0 queued\n",
      "[2020-05-13 17:44:06 #242 INFO] scenario_damage 100% [1 submitted, 0 queued]\n",
      "[2020-05-13 17:44:06 #242 INFO] Received {'d_event': '92.53 KB', 'aed': '70.58 KB', 'd_asset': '1.19 KB'} in 0 seconds\n",
      "[2020-05-13 17:44:06 #242 INFO] Found ~1500 dmg distributions per asset\n",
      "[2020-05-13 17:44:06 #242 INFO] Exposing the outputs to the database\n",
      "[2020-05-13 17:44:06 #242 INFO] Calculation 242 finished correctly in 3 seconds\n",
      "  id | name\n",
      "1044 | Aggregate Event Damages\n",
      "1043 | Average Asset Damages\n",
      "1045 | Events\n",
      "1046 | Full Report\n",
      "1047 | Ground Motion Fields\n",
      "1048 | Input Files\n",
      "1049 | Realizations\n",
      "(oqenv) "
     ]
    },
    {
     "ename": "",
     "evalue": "1",
     "output_type": "error",
     "traceback": []
    }
   ],
   "source": [
    "oq engine --run configDamage.ini"
   ]
  },
  {
   "cell_type": "markdown",
   "metadata": {},
   "source": [
    "----------\n",
    "### Exporting the Output\n",
    "What damage state is your building in? Let's download the results in two ways. First, we will obtain the average results per asset (your house). This is the average number of buildings in each damage state, over all of the realizations we considered. In this case, it's like a probability of being in each damage state: none, slight, moderate, extensive, and complete. These damage states are described in detail in [this HAZUS Manual appendix](https://www.eeri.org/wp-content/uploads/Appendix-2-HAZUS-Damage-States.pdf). For reference, here it the description for a W1 building:    \n",
    "\n",
    "   * __Slight Damage__: Small plaster or gypsum-board cracks at corners of door and window openings and wall-ceiling intersections; small cracks in masonry chimneys and masonry veneer.    \n",
    "   * __Moderate Damage__: Large plaster or gypsum-board cracks at corners of door and window openings; small diagonal cracks across shear wall panels exhibited by small cracks in stucco and gypsum wall panels; large cracks in brick chimneys; toppling of tall masonry chimneys.     \n",
    "   * __Extensive Damage__: Large diagonal cracks across shear wall panels or large cracks at plywood joints; permanent lateral movement of floors and roof; toppling of most brick chimneys; cracks in foundations; splitting of wood sill plates and/or slippage of structure over foundations; partial collapse of “room-over-garage” or other “soft-story” configurations; small foundations cracks.     \n",
    "   * __Complete Damage__: Structure may have large permanent lateral displacement, may collapse, or be in imminent danger of collapse due to cripple wall failure or the failure of the lateral load resisting system; some structures may slip and fall off the foundations; large foundation cracks. Approximately 3% of the total area of W1 buildings with Complete damage is expected to be collapsed. "
   ]
  },
  {
   "cell_type": "code",
   "execution_count": 31,
   "metadata": {},
   "outputs": [
    {
     "name": "stdout",
     "output_type": "stream",
     "text": [
      "here:  /Users/thobbs/openquake/src/oq-engine/openquake/hazardlib/gsim/NBCC2020_tables/BC17/BC17_2k_V2.hdf5\n",
      "Exported 1.88 KB in ['./dmg_by_asset-rlz-000_242.csv', './dmg_by_asset-rlz-001_242.csv', './dmg_by_asset-rlz-002_242.csv']\n",
      "(oqenv) "
     ]
    },
    {
     "ename": "",
     "evalue": "1",
     "output_type": "error",
     "traceback": []
    }
   ],
   "source": [
    "oq export dmg_by_asset -1"
   ]
  },
  {
   "cell_type": "markdown",
   "metadata": {},
   "source": [
    "Now we'll download the results per event. An 'event' refers to a realization of the rupture, ground motion, and soil conditions within their uncertainty space. You may have noticed that we specified 500 realizations for this calculation, and a ground motion prediction equation logic tree with 3 entries. That's 1500 'events' to sample from. And in each event, OQ assigns your house to a damage state. That's why this output will have integer values instead of fractions. "
   ]
  },
  {
   "cell_type": "code",
   "execution_count": 32,
   "metadata": {},
   "outputs": [
    {
     "name": "stdout",
     "output_type": "stream",
     "text": [
      "here:  /Users/thobbs/openquake/src/oq-engine/openquake/hazardlib/gsim/NBCC2020_tables/BC17/BC17_2k_V2.hdf5\n",
      "Exported 23.93 KB in ['./dmg_by_event_242.csv']\n",
      "(oqenv) "
     ]
    },
    {
     "ename": "",
     "evalue": "1",
     "output_type": "error",
     "traceback": []
    }
   ],
   "source": [
    "oq export dmg_by_event -1"
   ]
  },
  {
   "cell_type": "markdown",
   "metadata": {},
   "source": [
    "------------\n",
    "------------\n",
    "\n",
    "## Visualizing Outputs\n",
    "\n",
    "You can look at your outputs in a Geopspatial Information System (GIS) tool like QGIS, in a simple plotting program like matplotlib, or with spreadsheet software like Microsoft Excel. QGIS is a particularly attractive option because it has an OQ plugin that's designed to allow for rapid assessment of outputs. You could also use a hybrid visualization tool like Tableau, although it is well beyond the scope today. \n",
    "\n",
    "For today, we'll just use a Python-based tool called `matplotib` to extract the information from our csv outputs. The snippet below creates a python script and runs it. It should spit out the probability of the most likely damage state for your house to be in, as well as a pie chart of the relative probability of all damage states. You can practice playing around with the plotting, using one of the two styles shown below. For more information about pie charts and donuts, check out [this helpful reference](https://matplotlib.org/3.1.1/gallery/pie_and_polar_charts/pie_and_donut_labels.html)."
   ]
  },
  {
   "cell_type": "code",
   "execution_count": 36,
   "metadata": {},
   "outputs": [
    {
     "name": "stdout",
     "output_type": "stream",
     "text": [
      "(oqenv) (oqenv) You house has a 65.60000000000001% chance of being in Damage State None\n",
      "You house has a 64.60000000000001% chance of being in Damage State None\n",
      "(oqenv) "
     ]
    },
    {
     "ename": "",
     "evalue": "1",
     "output_type": "error",
     "traceback": []
    }
   ],
   "source": [
    "cat > plotCheckMyHouse.py << EOF\n",
    "import numpy as np \n",
    "import matplotlib.pyplot as plt\n",
    "import pandas as pd\n",
    "import glob\n",
    "\n",
    "# Identify our selected output\n",
    "fileName = \"dmg_by_asset-rlz-001_???.csv\"\n",
    "file = glob.glob(fileName)\n",
    "\n",
    "# Import it\n",
    "data = pd.read_csv(str(file[0]))\n",
    "\n",
    "for i in range(data.shape[0]):\n",
    "    dmg=data.iloc[i]['structural~no_damage_mean'],data.iloc[i]['structural~slight_mean'],data.iloc[i]['structural~moderate_mean'],data.iloc[i]['structural~extensive_mean'],data.iloc[i]['structural~complete_mean']\n",
    "    labels='None','Slight','Moderate','Extensive','Complete'\n",
    "\n",
    "    # Find most likely damage state and emphasize it\n",
    "    mostLikely=dmg.index(max(dmg))\n",
    "    explo = [0]*len(dmg); explo[mostLikely]=explo[mostLikely]+0.1; explo2 = tuple(explo)\n",
    "    print(\"You house has a \"+str(100*dmg[mostLikely])+\"% chance of being in Damage State \"+str(labels[mostLikely]))\n",
    "\n",
    "    # Make a pie chart\n",
    "    #fig1, ax1 = plt.subplots()\n",
    "    #ax1.pie(dmg, labels=labels, explode=explo2, autopct='%1.1f%%', startangle=-70)\n",
    "    #ax1.axis('equal')  # Equal aspect ratio ensures that pie is drawn as a circle.\n",
    "    #plt.show()\n",
    "\n",
    "    # Make a donut chart\n",
    "    fig, ax = plt.subplots(figsize=(7, 3), subplot_kw=dict(aspect=\"equal\"))\n",
    "    wedges, texts = ax.pie(dmg, wedgeprops=dict(width=0.5), startangle=-70)\n",
    "    bbox_props = dict(boxstyle=\"square,pad=0.3\", fc=\"w\", ec=\"k\", lw=0.72)\n",
    "    kw = dict(arrowprops=dict(arrowstyle=\"-\"),\n",
    "              bbox=bbox_props, zorder=0, va=\"center\")\n",
    "    for i, p in enumerate(wedges):\n",
    "        ang = (p.theta2 - p.theta1)/2. + p.theta1\n",
    "        y = np.sin(np.deg2rad(ang))\n",
    "        x = np.cos(np.deg2rad(ang))\n",
    "        horizontalalignment = {-1: \"right\", 1: \"left\"}[int(np.sign(x))]\n",
    "        connectionstyle = \"angle,angleA=0,angleB={}\".format(ang)\n",
    "        kw[\"arrowprops\"].update({\"connectionstyle\": connectionstyle})\n",
    "        ax.annotate(labels[i], xy=(x, y), xytext=(1.35*np.sign(x), 1.4*y),\n",
    "                    horizontalalignment=horizontalalignment, **kw)\n",
    "    ax.set_title(\"Probability of Different Damage States\")\n",
    "    plt.show()\n",
    "\n",
    "EOF\n",
    "\n",
    "python3 plotCheckMyHouse.py"
   ]
  },
  {
   "cell_type": "markdown",
   "metadata": {},
   "source": [
    "Be sure to close the figure window before trying to re-run this calculation. "
   ]
  },
  {
   "cell_type": "markdown",
   "metadata": {},
   "source": [
    "----------\n",
    "## The End\n",
    "\n",
    "Hopefully you've succesfully made it through, and have determined the probability of different damage states for your home in this scenario earthquake. You have also started thinking about the other datasets and models that are required for running OpenQuake, and experimented with plotting. Go celebrate your hard work!\n",
    "\n",
    "![alt text](https://media.giphy.com/media/f9RzoxHizH72k15FKS/giphy.gif \"Even Paul Rudd is proud of you!\")"
   ]
  }
 ],
 "metadata": {
  "kernelspec": {
   "display_name": "Bash",
   "language": "bash",
   "name": "bash"
  },
  "language_info": {
   "codemirror_mode": "shell",
   "file_extension": ".sh",
   "mimetype": "text/x-sh",
   "name": "bash"
  }
 },
 "nbformat": 4,
 "nbformat_minor": 4
}
